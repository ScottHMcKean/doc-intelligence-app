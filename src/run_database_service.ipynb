{
 "cells": [
  {
   "cell_type": "markdown",
   "id": "11f165f3",
   "metadata": {},
   "source": [
    "## Service Setup\n",
    "\n",
    "This notebooks sets up and verifies the services needed for the Document Intelligence app. The services include:\n",
    "\n",
    "1. Storage Service (Volumes)\n",
    "2. Database Service (Lakebase)\n",
    "3. Document Service (DBSQL)\n",
    "4. Agent Service (Model Serving)\n",
    "\n",
    "These services are orchestrated by the application, but this notebook sets up and verifies each service individually."
   ]
  },
  {
   "cell_type": "markdown",
   "id": "db1376b3",
   "metadata": {},
   "source": [
    "We use the workspace client extensively throughout the app and repo, so first thing is to validate our connection."
   ]
  },
  {
   "cell_type": "code",
   "execution_count": 1,
   "id": "e831190b",
   "metadata": {},
   "outputs": [],
   "source": [
    "from databricks.sdk import WorkspaceClient\n",
    "from doc_intel.utils import get_workspace_client\n",
    "client = get_workspace_client()\n",
    "user_id = client.current_user.me().id"
   ]
  },
  {
   "cell_type": "code",
   "execution_count": 2,
   "id": "311a083f",
   "metadata": {},
   "outputs": [],
   "source": [
    "from doc_intel.config import DocConfig\n",
    "config = DocConfig(\"./config.yaml\")"
   ]
  },
  {
   "cell_type": "markdown",
   "id": "0538001e",
   "metadata": {},
   "source": [
    "## Database Service\n",
    "The Database Service manages the Lakebase Postgres database. It handles automated schema creation, provides dynamic credential generation via Databricks SDK, and leverages the PGvector extension for semantic similarity search on small batches of documents. "
   ]
  },
  {
   "cell_type": "code",
   "execution_count": 3,
   "id": "5f01ca33",
   "metadata": {},
   "outputs": [],
   "source": [
    "from doc_intel.database import DatabaseService\n",
    "db_service = DatabaseService(client, config)"
   ]
  },
  {
   "cell_type": "markdown",
   "id": "ce27ab04",
   "metadata": {},
   "source": [
    "This code sets up the database instance. It takes about 5 minutes to spin up."
   ]
  },
  {
   "cell_type": "code",
   "execution_count": 4,
   "id": "e6ccf219",
   "metadata": {},
   "outputs": [
    {
     "data": {
      "text/plain": [
       "True"
      ]
     },
     "execution_count": 4,
     "metadata": {},
     "output_type": "execute_result"
    }
   ],
   "source": [
    "db_service.setup_database_instance()"
   ]
  },
  {
   "cell_type": "markdown",
   "id": "4ffea3ab",
   "metadata": {},
   "source": [
    "Now that we have our database instance, we can get cooking with Postgres. Because it is an OLTP database, getting it setup is pretty fast."
   ]
  },
  {
   "cell_type": "code",
   "execution_count": 5,
   "id": "efd90ad5",
   "metadata": {},
   "outputs": [
    {
     "data": {
      "text/plain": [
       "True"
      ]
     },
     "execution_count": 5,
     "metadata": {},
     "output_type": "execute_result"
    }
   ],
   "source": [
    "db_service.connection_live"
   ]
  },
  {
   "cell_type": "markdown",
   "id": "60226846",
   "metadata": {},
   "source": [
    "This method automates the creation of the database tables using Pydantic models, which can also be used in python and app code to validate the data before it is inserted into the database."
   ]
  },
  {
   "cell_type": "code",
   "execution_count": 6,
   "id": "baaa2414",
   "metadata": {},
   "outputs": [
    {
     "data": {
      "text/plain": [
       "['chunks', 'conversations', 'documents', 'messages', 'users']"
      ]
     },
     "execution_count": 6,
     "metadata": {},
     "output_type": "execute_result"
    }
   ],
   "source": [
    "db_service.create_tables()\n",
    "db_service.list_tables()"
   ]
  },
  {
   "cell_type": "markdown",
   "id": "623143db",
   "metadata": {},
   "source": [
    "### User Table"
   ]
  },
  {
   "cell_type": "code",
   "execution_count": 7,
   "id": "fce845c9",
   "metadata": {},
   "outputs": [
    {
     "data": {
      "text/plain": [
       "User(id='7873535765378608', username='scott.mckean@databricks.com', created_at=datetime.datetime(2025, 9, 4, 4, 26, 38, 803639, tzinfo=datetime.timezone.utc))"
      ]
     },
     "execution_count": 7,
     "metadata": {},
     "output_type": "execute_result"
    }
   ],
   "source": [
    "db_service.create_user()"
   ]
  },
  {
   "cell_type": "code",
   "execution_count": 8,
   "id": "57d57fbf",
   "metadata": {},
   "outputs": [
    {
     "data": {
      "text/html": [
       "<div>\n",
       "<style scoped>\n",
       "    .dataframe tbody tr th:only-of-type {\n",
       "        vertical-align: middle;\n",
       "    }\n",
       "\n",
       "    .dataframe tbody tr th {\n",
       "        vertical-align: top;\n",
       "    }\n",
       "\n",
       "    .dataframe thead th {\n",
       "        text-align: right;\n",
       "    }\n",
       "</style>\n",
       "<table border=\"1\" class=\"dataframe\">\n",
       "  <thead>\n",
       "    <tr style=\"text-align: right;\">\n",
       "      <th></th>\n",
       "      <th>id</th>\n",
       "      <th>username</th>\n",
       "      <th>created_at</th>\n",
       "    </tr>\n",
       "  </thead>\n",
       "  <tbody>\n",
       "    <tr>\n",
       "      <th>0</th>\n",
       "      <td>7873535765378608</td>\n",
       "      <td>scott.mckean@databricks.com</td>\n",
       "      <td>2025-09-04 04:26:38.803639+00:00</td>\n",
       "    </tr>\n",
       "  </tbody>\n",
       "</table>\n",
       "</div>"
      ],
      "text/plain": [
       "                 id                     username  \\\n",
       "0  7873535765378608  scott.mckean@databricks.com   \n",
       "\n",
       "                        created_at  \n",
       "0 2025-09-04 04:26:38.803639+00:00  "
      ]
     },
     "execution_count": 8,
     "metadata": {},
     "output_type": "execute_result"
    }
   ],
   "source": [
    "db_service.run_pg_query(\"SELECT * FROM users\", return_dataframe=True)"
   ]
  },
  {
   "cell_type": "code",
   "execution_count": 9,
   "id": "33e82adf",
   "metadata": {},
   "outputs": [
    {
     "data": {
      "text/plain": [
       "True"
      ]
     },
     "execution_count": 9,
     "metadata": {},
     "output_type": "execute_result"
    }
   ],
   "source": [
    "db_service.user_exists()"
   ]
  },
  {
   "cell_type": "markdown",
   "id": "28fdf217",
   "metadata": {},
   "source": [
    "### Document Table"
   ]
  },
  {
   "cell_type": "code",
   "execution_count": 10,
   "id": "16a45589",
   "metadata": {},
   "outputs": [
    {
     "name": "stderr",
     "output_type": "stream",
     "text": [
      "ERROR:doc_intel.database.service:Failed to create document: duplicate key value violates unique constraint \"documents_raw_path_key\"\n",
      "DETAIL:  Key (raw_path)=(/storage/documents/raw/financial_report_2022.pdf) already exists.\n",
      "\n"
     ]
    },
    {
     "name": "stdout",
     "output_type": "stream",
     "text": [
      "Document created: None\n"
     ]
    }
   ],
   "source": [
    "result = db_service.create_document(\n",
    "    raw_path='/storage/documents/raw/financial_report_2022.pdf',\n",
    "    processed_path='/storage/documents/processed/financial_report_2024.json',\n",
    "    metadata={\n",
    "        'filename': 'financial_report_2024.pdf',\n",
    "        'file_size': 2048000,\n",
    "        'pages': 25,\n",
    "        'document_type': 'financial_statement',\n",
    "        'company': 'Acme Corp',\n",
    "        'year': 2024\n",
    "    }\n",
    ")\n",
    "print(f'Document created: {result}')"
   ]
  },
  {
   "cell_type": "code",
   "execution_count": 11,
   "id": "4f213b2f",
   "metadata": {},
   "outputs": [
    {
     "data": {
      "text/html": [
       "<div>\n",
       "<style scoped>\n",
       "    .dataframe tbody tr th:only-of-type {\n",
       "        vertical-align: middle;\n",
       "    }\n",
       "\n",
       "    .dataframe tbody tr th {\n",
       "        vertical-align: top;\n",
       "    }\n",
       "\n",
       "    .dataframe thead th {\n",
       "        text-align: right;\n",
       "    }\n",
       "</style>\n",
       "<table border=\"1\" class=\"dataframe\">\n",
       "  <thead>\n",
       "    <tr style=\"text-align: right;\">\n",
       "      <th></th>\n",
       "      <th>id</th>\n",
       "      <th>user_id</th>\n",
       "      <th>raw_path</th>\n",
       "      <th>processed_path</th>\n",
       "      <th>metadata</th>\n",
       "      <th>created_at</th>\n",
       "    </tr>\n",
       "  </thead>\n",
       "  <tbody>\n",
       "    <tr>\n",
       "      <th>0</th>\n",
       "      <td>fdc37c40-b5f1-44d3-bd9a-ae9ae6e9c913</td>\n",
       "      <td>7873535765378608</td>\n",
       "      <td>/storage/documents/raw/financial_report_2024.pdf</td>\n",
       "      <td>/storage/documents/processed/financial_report_...</td>\n",
       "      <td>{'year': 2024, 'pages': 25, 'company': 'Acme C...</td>\n",
       "      <td>2025-09-04 04:26:49.699622+00:00</td>\n",
       "    </tr>\n",
       "    <tr>\n",
       "      <th>1</th>\n",
       "      <td>44649251-da36-4c36-bf71-bd078ba60bd3</td>\n",
       "      <td>7873535765378608</td>\n",
       "      <td>/storage/documents/raw/financial_report_2022.pdf</td>\n",
       "      <td>/storage/documents/processed/financial_report_...</td>\n",
       "      <td>{'year': 2024, 'pages': 25, 'company': 'Acme C...</td>\n",
       "      <td>2025-09-04 04:37:24.118540+00:00</td>\n",
       "    </tr>\n",
       "    <tr>\n",
       "      <th>2</th>\n",
       "      <td>056f7e1f-cc88-43ac-b3b3-e8ae6592f8b5</td>\n",
       "      <td>7873535765378608</td>\n",
       "      <td>/example/document.pdf</td>\n",
       "      <td>/example/document_processed.json</td>\n",
       "      <td>{'year': 2024, 'pages': 4, 'company': 'Example...</td>\n",
       "      <td>2025-09-04 04:46:45.218879+00:00</td>\n",
       "    </tr>\n",
       "    <tr>\n",
       "      <th>3</th>\n",
       "      <td>431796ab-5e75-4500-b757-9f3e719b0e2f</td>\n",
       "      <td>7873535765378608</td>\n",
       "      <td>/example/document_1756961232.pdf</td>\n",
       "      <td>/example/document_1756961232_processed.json</td>\n",
       "      <td>{'year': 2024, 'pages': 4, 'company': 'Example...</td>\n",
       "      <td>2025-09-04 04:47:13.995466+00:00</td>\n",
       "    </tr>\n",
       "    <tr>\n",
       "      <th>4</th>\n",
       "      <td>0e48bf61-e2f9-43b7-95c3-b5219c74eb7a</td>\n",
       "      <td>7873535765378608</td>\n",
       "      <td>/example/simple_doc.pdf</td>\n",
       "      <td>/example/simple_doc_processed.json</td>\n",
       "      <td>{'pages': 1, 'filename': 'simple_doc.pdf'}</td>\n",
       "      <td>2025-09-04 04:47:36.844494+00:00</td>\n",
       "    </tr>\n",
       "  </tbody>\n",
       "</table>\n",
       "</div>"
      ],
      "text/plain": [
       "                                     id           user_id  \\\n",
       "0  fdc37c40-b5f1-44d3-bd9a-ae9ae6e9c913  7873535765378608   \n",
       "1  44649251-da36-4c36-bf71-bd078ba60bd3  7873535765378608   \n",
       "2  056f7e1f-cc88-43ac-b3b3-e8ae6592f8b5  7873535765378608   \n",
       "3  431796ab-5e75-4500-b757-9f3e719b0e2f  7873535765378608   \n",
       "4  0e48bf61-e2f9-43b7-95c3-b5219c74eb7a  7873535765378608   \n",
       "\n",
       "                                           raw_path  \\\n",
       "0  /storage/documents/raw/financial_report_2024.pdf   \n",
       "1  /storage/documents/raw/financial_report_2022.pdf   \n",
       "2                             /example/document.pdf   \n",
       "3                  /example/document_1756961232.pdf   \n",
       "4                           /example/simple_doc.pdf   \n",
       "\n",
       "                                      processed_path  \\\n",
       "0  /storage/documents/processed/financial_report_...   \n",
       "1  /storage/documents/processed/financial_report_...   \n",
       "2                   /example/document_processed.json   \n",
       "3        /example/document_1756961232_processed.json   \n",
       "4                 /example/simple_doc_processed.json   \n",
       "\n",
       "                                            metadata  \\\n",
       "0  {'year': 2024, 'pages': 25, 'company': 'Acme C...   \n",
       "1  {'year': 2024, 'pages': 25, 'company': 'Acme C...   \n",
       "2  {'year': 2024, 'pages': 4, 'company': 'Example...   \n",
       "3  {'year': 2024, 'pages': 4, 'company': 'Example...   \n",
       "4         {'pages': 1, 'filename': 'simple_doc.pdf'}   \n",
       "\n",
       "                        created_at  \n",
       "0 2025-09-04 04:26:49.699622+00:00  \n",
       "1 2025-09-04 04:37:24.118540+00:00  \n",
       "2 2025-09-04 04:46:45.218879+00:00  \n",
       "3 2025-09-04 04:47:13.995466+00:00  \n",
       "4 2025-09-04 04:47:36.844494+00:00  "
      ]
     },
     "execution_count": 11,
     "metadata": {},
     "output_type": "execute_result"
    }
   ],
   "source": [
    "docs = db_service.run_pg_query(\"SELECT * FROM documents\", return_dataframe=True)\n",
    "docs"
   ]
  },
  {
   "cell_type": "code",
   "execution_count": 12,
   "id": "bfb93dc1",
   "metadata": {},
   "outputs": [
    {
     "data": {
      "text/html": [
       "<div>\n",
       "<style scoped>\n",
       "    .dataframe tbody tr th:only-of-type {\n",
       "        vertical-align: middle;\n",
       "    }\n",
       "\n",
       "    .dataframe tbody tr th {\n",
       "        vertical-align: top;\n",
       "    }\n",
       "\n",
       "    .dataframe thead th {\n",
       "        text-align: right;\n",
       "    }\n",
       "</style>\n",
       "<table border=\"1\" class=\"dataframe\">\n",
       "  <thead>\n",
       "    <tr style=\"text-align: right;\">\n",
       "      <th></th>\n",
       "      <th>id</th>\n",
       "      <th>user_id</th>\n",
       "      <th>raw_path</th>\n",
       "      <th>processed_path</th>\n",
       "      <th>metadata</th>\n",
       "      <th>created_at</th>\n",
       "    </tr>\n",
       "  </thead>\n",
       "  <tbody>\n",
       "    <tr>\n",
       "      <th>0</th>\n",
       "      <td>fdc37c40-b5f1-44d3-bd9a-ae9ae6e9c913</td>\n",
       "      <td>7873535765378608</td>\n",
       "      <td>/storage/documents/raw/financial_report_2024.pdf</td>\n",
       "      <td>/storage/documents/processed/financial_report_...</td>\n",
       "      <td>{'year': 2024, 'pages': 25, 'company': 'Acme C...</td>\n",
       "      <td>2025-09-04 04:26:49.699622+00:00</td>\n",
       "    </tr>\n",
       "  </tbody>\n",
       "</table>\n",
       "</div>"
      ],
      "text/plain": [
       "                                     id           user_id  \\\n",
       "0  fdc37c40-b5f1-44d3-bd9a-ae9ae6e9c913  7873535765378608   \n",
       "\n",
       "                                           raw_path  \\\n",
       "0  /storage/documents/raw/financial_report_2024.pdf   \n",
       "\n",
       "                                      processed_path  \\\n",
       "0  /storage/documents/processed/financial_report_...   \n",
       "\n",
       "                                            metadata  \\\n",
       "0  {'year': 2024, 'pages': 25, 'company': 'Acme C...   \n",
       "\n",
       "                        created_at  \n",
       "0 2025-09-04 04:26:49.699622+00:00  "
      ]
     },
     "execution_count": 12,
     "metadata": {},
     "output_type": "execute_result"
    }
   ],
   "source": [
    "db_service.get_document_by_id(docs.id.iloc[0], return_dataframe=True)"
   ]
  },
  {
   "cell_type": "code",
   "execution_count": 13,
   "id": "f7444306",
   "metadata": {},
   "outputs": [
    {
     "data": {
      "text/plain": [
       "[Document(id='0e48bf61-e2f9-43b7-95c3-b5219c74eb7a', user_id='7873535765378608', raw_path='/example/simple_doc.pdf', processed_path='/example/simple_doc_processed.json', metadata={'pages': 1, 'filename': 'simple_doc.pdf'}, created_at=datetime.datetime(2025, 9, 4, 4, 47, 36, 844494, tzinfo=datetime.timezone.utc)),\n",
       " Document(id='431796ab-5e75-4500-b757-9f3e719b0e2f', user_id='7873535765378608', raw_path='/example/document_1756961232.pdf', processed_path='/example/document_1756961232_processed.json', metadata={'year': 2024, 'pages': 4, 'company': 'Example Corp', 'filename': 'sample_document.pdf', 'file_size': 1024000, 'document_type': 'financial_report'}, created_at=datetime.datetime(2025, 9, 4, 4, 47, 13, 995466, tzinfo=datetime.timezone.utc)),\n",
       " Document(id='056f7e1f-cc88-43ac-b3b3-e8ae6592f8b5', user_id='7873535765378608', raw_path='/example/document.pdf', processed_path='/example/document_processed.json', metadata={'year': 2024, 'pages': 4, 'company': 'Example Corp', 'filename': 'sample_document.pdf', 'file_size': 1024000, 'document_type': 'financial_report'}, created_at=datetime.datetime(2025, 9, 4, 4, 46, 45, 218879, tzinfo=datetime.timezone.utc)),\n",
       " Document(id='44649251-da36-4c36-bf71-bd078ba60bd3', user_id='7873535765378608', raw_path='/storage/documents/raw/financial_report_2022.pdf', processed_path='/storage/documents/processed/financial_report_2024.json', metadata={'year': 2024, 'pages': 25, 'company': 'Acme Corp', 'filename': 'financial_report_2024.pdf', 'file_size': 2048000, 'document_type': 'financial_statement'}, created_at=datetime.datetime(2025, 9, 4, 4, 37, 24, 118540, tzinfo=datetime.timezone.utc)),\n",
       " Document(id='fdc37c40-b5f1-44d3-bd9a-ae9ae6e9c913', user_id='7873535765378608', raw_path='/storage/documents/raw/financial_report_2024.pdf', processed_path='/storage/documents/processed/financial_report_2024.json', metadata={'year': 2024, 'pages': 25, 'company': 'Acme Corp', 'filename': 'financial_report_2024.pdf', 'file_size': 2048000, 'document_type': 'financial_statement'}, created_at=datetime.datetime(2025, 9, 4, 4, 26, 49, 699622, tzinfo=datetime.timezone.utc))]"
      ]
     },
     "execution_count": 13,
     "metadata": {},
     "output_type": "execute_result"
    }
   ],
   "source": [
    "db_service.get_user_documents()"
   ]
  },
  {
   "cell_type": "markdown",
   "id": "ea793c14",
   "metadata": {},
   "source": [
    "### Chunks"
   ]
  },
  {
   "cell_type": "code",
   "execution_count": 14,
   "id": "381c8efe",
   "metadata": {},
   "outputs": [
    {
     "data": {
      "text/plain": [
       "True"
      ]
     },
     "execution_count": 14,
     "metadata": {},
     "output_type": "execute_result"
    }
   ],
   "source": [
    "chunk_1 = {\n",
    "    \"content\": \"Your document content here...\",\n",
    "    \"page_ids\": [\"1\", \"2\"],  # Which pages this chunk came from\n",
    "    \"embedding\": [0.1] * 768,  # 768-dimensional embedding vector\n",
    "    \"metadata\": {\n",
    "        \"chunk_index\": 0,\n",
    "        \"type\": \"paragraph\",\n",
    "        \"word_count\": 25,\n",
    "        \"section\": \"introduction\"\n",
    "    }\n",
    "}\n",
    "\n",
    "chunk_2 = {\n",
    "    \"content\": \"More document content here...\",\n",
    "    \"page_ids\": [\"2\"],  # Which pages this chunk came from\n",
    "    \"embedding\": [0.2] * 768,  # 768-dimensional embedding vector\n",
    "    \"metadata\": {\n",
    "        \"chunk_index\": 0,\n",
    "        \"type\": \"paragraph\",\n",
    "        \"word_count\": 50,\n",
    "        \"section\": \"body\"\n",
    "    }\n",
    "}\n",
    "\n",
    "db_service.store_document_chunks(docs.id.iloc[0], [chunk_1, chunk_2])"
   ]
  },
  {
   "cell_type": "code",
   "execution_count": 15,
   "id": "58edc916",
   "metadata": {},
   "outputs": [
    {
     "data": {
      "text/html": [
       "<div>\n",
       "<style scoped>\n",
       "    .dataframe tbody tr th:only-of-type {\n",
       "        vertical-align: middle;\n",
       "    }\n",
       "\n",
       "    .dataframe tbody tr th {\n",
       "        vertical-align: top;\n",
       "    }\n",
       "\n",
       "    .dataframe thead th {\n",
       "        text-align: right;\n",
       "    }\n",
       "</style>\n",
       "<table border=\"1\" class=\"dataframe\">\n",
       "  <thead>\n",
       "    <tr style=\"text-align: right;\">\n",
       "      <th></th>\n",
       "      <th>id</th>\n",
       "      <th>doc_id</th>\n",
       "      <th>content</th>\n",
       "      <th>page_ids</th>\n",
       "      <th>embedding</th>\n",
       "      <th>metadata</th>\n",
       "      <th>created_at</th>\n",
       "    </tr>\n",
       "  </thead>\n",
       "  <tbody>\n",
       "    <tr>\n",
       "      <th>0</th>\n",
       "      <td>457e7fbd-40fd-47dc-bba4-9790a527801f</td>\n",
       "      <td>fdc37c40-b5f1-44d3-bd9a-ae9ae6e9c913</td>\n",
       "      <td>Your document content here...</td>\n",
       "      <td>[1, 2]</td>\n",
       "      <td>[0.1,0.1,0.1,0.1,0.1,0.1,0.1,0.1,0.1,0.1,0.1,0...</td>\n",
       "      <td>{'type': 'paragraph', 'section': 'introduction...</td>\n",
       "      <td>2025-09-04 04:48:40.597569+00:00</td>\n",
       "    </tr>\n",
       "    <tr>\n",
       "      <th>1</th>\n",
       "      <td>556ecebe-91ae-4f28-aec0-c59524e6334e</td>\n",
       "      <td>fdc37c40-b5f1-44d3-bd9a-ae9ae6e9c913</td>\n",
       "      <td>Your document content here...</td>\n",
       "      <td>[1, 2]</td>\n",
       "      <td>[0.1,0.1,0.1,0.1,0.1,0.1,0.1,0.1,0.1,0.1,0.1,0...</td>\n",
       "      <td>{'type': 'paragraph', 'section': 'introduction...</td>\n",
       "      <td>2025-09-04 04:48:44.116711+00:00</td>\n",
       "    </tr>\n",
       "    <tr>\n",
       "      <th>2</th>\n",
       "      <td>984b978a-e9f4-4a75-a2e2-9cc7dc3fda2f</td>\n",
       "      <td>fdc37c40-b5f1-44d3-bd9a-ae9ae6e9c913</td>\n",
       "      <td>Your document content here...</td>\n",
       "      <td>[1, 2]</td>\n",
       "      <td>[0.1,0.1,0.1,0.1,0.1,0.1,0.1,0.1,0.1,0.1,0.1,0...</td>\n",
       "      <td>{'type': 'paragraph', 'section': 'introduction...</td>\n",
       "      <td>2025-09-04 04:49:33.435436+00:00</td>\n",
       "    </tr>\n",
       "    <tr>\n",
       "      <th>3</th>\n",
       "      <td>922cb9fa-cfaa-4934-8ce3-b5abccde4a90</td>\n",
       "      <td>fdc37c40-b5f1-44d3-bd9a-ae9ae6e9c913</td>\n",
       "      <td>More document content here...</td>\n",
       "      <td>[2]</td>\n",
       "      <td>[0.2,0.2,0.2,0.2,0.2,0.2,0.2,0.2,0.2,0.2,0.2,0...</td>\n",
       "      <td>{'type': 'paragraph', 'section': 'body', 'word...</td>\n",
       "      <td>2025-09-04 04:49:33.671378+00:00</td>\n",
       "    </tr>\n",
       "    <tr>\n",
       "      <th>4</th>\n",
       "      <td>12068f24-e431-45c6-8058-eb9e0bf09542</td>\n",
       "      <td>fdc37c40-b5f1-44d3-bd9a-ae9ae6e9c913</td>\n",
       "      <td>Your document content here...</td>\n",
       "      <td>[1, 2]</td>\n",
       "      <td>[0.1,0.1,0.1,0.1,0.1,0.1,0.1,0.1,0.1,0.1,0.1,0...</td>\n",
       "      <td>{'type': 'paragraph', 'section': 'introduction...</td>\n",
       "      <td>2025-09-04 04:50:30.774321+00:00</td>\n",
       "    </tr>\n",
       "    <tr>\n",
       "      <th>5</th>\n",
       "      <td>0f5894df-71cd-494d-9c5e-8d514f9d637c</td>\n",
       "      <td>fdc37c40-b5f1-44d3-bd9a-ae9ae6e9c913</td>\n",
       "      <td>More document content here...</td>\n",
       "      <td>[2]</td>\n",
       "      <td>[0.2,0.2,0.2,0.2,0.2,0.2,0.2,0.2,0.2,0.2,0.2,0...</td>\n",
       "      <td>{'type': 'paragraph', 'section': 'body', 'word...</td>\n",
       "      <td>2025-09-04 04:50:30.996838+00:00</td>\n",
       "    </tr>\n",
       "    <tr>\n",
       "      <th>6</th>\n",
       "      <td>f47f97f5-9fef-40e8-8a30-79bc829365cd</td>\n",
       "      <td>fdc37c40-b5f1-44d3-bd9a-ae9ae6e9c913</td>\n",
       "      <td>Your document content here...</td>\n",
       "      <td>[1, 2]</td>\n",
       "      <td>[0.1,0.1,0.1,0.1,0.1,0.1,0.1,0.1,0.1,0.1,0.1,0...</td>\n",
       "      <td>{'type': 'paragraph', 'section': 'introduction...</td>\n",
       "      <td>2025-09-04 04:55:51.165140+00:00</td>\n",
       "    </tr>\n",
       "    <tr>\n",
       "      <th>7</th>\n",
       "      <td>0d02e0d9-63ce-4002-a280-821285451505</td>\n",
       "      <td>fdc37c40-b5f1-44d3-bd9a-ae9ae6e9c913</td>\n",
       "      <td>More document content here...</td>\n",
       "      <td>[2]</td>\n",
       "      <td>[0.2,0.2,0.2,0.2,0.2,0.2,0.2,0.2,0.2,0.2,0.2,0...</td>\n",
       "      <td>{'type': 'paragraph', 'section': 'body', 'word...</td>\n",
       "      <td>2025-09-04 04:55:51.371618+00:00</td>\n",
       "    </tr>\n",
       "  </tbody>\n",
       "</table>\n",
       "</div>"
      ],
      "text/plain": [
       "                                     id                                doc_id  \\\n",
       "0  457e7fbd-40fd-47dc-bba4-9790a527801f  fdc37c40-b5f1-44d3-bd9a-ae9ae6e9c913   \n",
       "1  556ecebe-91ae-4f28-aec0-c59524e6334e  fdc37c40-b5f1-44d3-bd9a-ae9ae6e9c913   \n",
       "2  984b978a-e9f4-4a75-a2e2-9cc7dc3fda2f  fdc37c40-b5f1-44d3-bd9a-ae9ae6e9c913   \n",
       "3  922cb9fa-cfaa-4934-8ce3-b5abccde4a90  fdc37c40-b5f1-44d3-bd9a-ae9ae6e9c913   \n",
       "4  12068f24-e431-45c6-8058-eb9e0bf09542  fdc37c40-b5f1-44d3-bd9a-ae9ae6e9c913   \n",
       "5  0f5894df-71cd-494d-9c5e-8d514f9d637c  fdc37c40-b5f1-44d3-bd9a-ae9ae6e9c913   \n",
       "6  f47f97f5-9fef-40e8-8a30-79bc829365cd  fdc37c40-b5f1-44d3-bd9a-ae9ae6e9c913   \n",
       "7  0d02e0d9-63ce-4002-a280-821285451505  fdc37c40-b5f1-44d3-bd9a-ae9ae6e9c913   \n",
       "\n",
       "                         content page_ids  \\\n",
       "0  Your document content here...   [1, 2]   \n",
       "1  Your document content here...   [1, 2]   \n",
       "2  Your document content here...   [1, 2]   \n",
       "3  More document content here...      [2]   \n",
       "4  Your document content here...   [1, 2]   \n",
       "5  More document content here...      [2]   \n",
       "6  Your document content here...   [1, 2]   \n",
       "7  More document content here...      [2]   \n",
       "\n",
       "                                           embedding  \\\n",
       "0  [0.1,0.1,0.1,0.1,0.1,0.1,0.1,0.1,0.1,0.1,0.1,0...   \n",
       "1  [0.1,0.1,0.1,0.1,0.1,0.1,0.1,0.1,0.1,0.1,0.1,0...   \n",
       "2  [0.1,0.1,0.1,0.1,0.1,0.1,0.1,0.1,0.1,0.1,0.1,0...   \n",
       "3  [0.2,0.2,0.2,0.2,0.2,0.2,0.2,0.2,0.2,0.2,0.2,0...   \n",
       "4  [0.1,0.1,0.1,0.1,0.1,0.1,0.1,0.1,0.1,0.1,0.1,0...   \n",
       "5  [0.2,0.2,0.2,0.2,0.2,0.2,0.2,0.2,0.2,0.2,0.2,0...   \n",
       "6  [0.1,0.1,0.1,0.1,0.1,0.1,0.1,0.1,0.1,0.1,0.1,0...   \n",
       "7  [0.2,0.2,0.2,0.2,0.2,0.2,0.2,0.2,0.2,0.2,0.2,0...   \n",
       "\n",
       "                                            metadata  \\\n",
       "0  {'type': 'paragraph', 'section': 'introduction...   \n",
       "1  {'type': 'paragraph', 'section': 'introduction...   \n",
       "2  {'type': 'paragraph', 'section': 'introduction...   \n",
       "3  {'type': 'paragraph', 'section': 'body', 'word...   \n",
       "4  {'type': 'paragraph', 'section': 'introduction...   \n",
       "5  {'type': 'paragraph', 'section': 'body', 'word...   \n",
       "6  {'type': 'paragraph', 'section': 'introduction...   \n",
       "7  {'type': 'paragraph', 'section': 'body', 'word...   \n",
       "\n",
       "                        created_at  \n",
       "0 2025-09-04 04:48:40.597569+00:00  \n",
       "1 2025-09-04 04:48:44.116711+00:00  \n",
       "2 2025-09-04 04:49:33.435436+00:00  \n",
       "3 2025-09-04 04:49:33.671378+00:00  \n",
       "4 2025-09-04 04:50:30.774321+00:00  \n",
       "5 2025-09-04 04:50:30.996838+00:00  \n",
       "6 2025-09-04 04:55:51.165140+00:00  \n",
       "7 2025-09-04 04:55:51.371618+00:00  "
      ]
     },
     "execution_count": 15,
     "metadata": {},
     "output_type": "execute_result"
    }
   ],
   "source": [
    "db_service.get_document_chunks(docs.id.iloc[0], return_dataframe=True)"
   ]
  },
  {
   "cell_type": "markdown",
   "id": "ff02d9af",
   "metadata": {},
   "source": [
    "### Conversation\n"
   ]
  },
  {
   "cell_type": "code",
   "execution_count": 16,
   "id": "2dd2b85e",
   "metadata": {},
   "outputs": [
    {
     "name": "stderr",
     "output_type": "stream",
     "text": [
      "ERROR:doc_intel.database.service:Failed to create conversation: duplicate key value violates unique constraint \"conversations_pkey\"\n",
      "DETAIL:  Key (id)=(122) already exists.\n",
      "\n"
     ]
    }
   ],
   "source": [
    "db_service.create_conversation(\n",
    "    conversation_id=\"122\",\n",
    "    doc_ids=[docs.id.iloc[0]],\n",
    "    metadata={\n",
    "        \"title\": \"Financial Report 2022\"\n",
    "    }\n",
    ")"
   ]
  },
  {
   "cell_type": "code",
   "execution_count": 17,
   "id": "c90d7b3a",
   "metadata": {},
   "outputs": [
    {
     "data": {
      "text/plain": [
       "{'id': '122',\n",
       " 'user_id': '7873535765378608',\n",
       " 'doc_ids': ['fdc37c40-b5f1-44d3-bd9a-ae9ae6e9c913'],\n",
       " 'metadata': {'title': 'Financial Report 2022'},\n",
       " 'created_at': datetime.datetime(2025, 9, 4, 4, 52, 10, 798466, tzinfo=datetime.timezone.utc),\n",
       " 'updated_at': datetime.datetime(2025, 9, 4, 4, 52, 10, 798466, tzinfo=datetime.timezone.utc)}"
      ]
     },
     "execution_count": 17,
     "metadata": {},
     "output_type": "execute_result"
    }
   ],
   "source": [
    "db_service.get_conversation_by_id(\"122\")"
   ]
  },
  {
   "cell_type": "code",
   "execution_count": 19,
   "id": "6110e8d5",
   "metadata": {},
   "outputs": [
    {
     "data": {
      "text/plain": [
       "['Financial Report 2022', 'Financial Report 2024', 'Financial Report 2024']"
      ]
     },
     "execution_count": 19,
     "metadata": {},
     "output_type": "execute_result"
    }
   ],
   "source": [
    "# List the titles (and maybe summary) and the ids in the app service\n",
    "[x['metadata']['title'] for x in db_service.get_user_conversations()]"
   ]
  },
  {
   "cell_type": "markdown",
   "id": "758e4181",
   "metadata": {},
   "source": [
    "### Messages"
   ]
  },
  {
   "cell_type": "code",
   "execution_count": 23,
   "id": "5d5dd116",
   "metadata": {},
   "outputs": [
    {
     "data": {
      "text/plain": [
       "Message(id='a929d84e-812a-4b94-b546-b77b65ecee9b', conv_id='122', role='user', content={'type': 'text', 'content': 'Hello'}, metadata={}, created_at=datetime.datetime(2025, 9, 4, 4, 58, 24, 918362, tzinfo=datetime.timezone.utc))"
      ]
     },
     "execution_count": 23,
     "metadata": {},
     "output_type": "execute_result"
    }
   ],
   "source": [
    "db_service.add_message(\n",
    "    conv_id=\"122\",\n",
    "    role=\"user\", \n",
    "    content={\"type\": \"text\", \"content\": \"Hello\"},\n",
    "    metadata={}\n",
    ")\n"
   ]
  },
  {
   "cell_type": "code",
   "execution_count": 24,
   "id": "0b598194",
   "metadata": {},
   "outputs": [
    {
     "data": {
      "text/plain": [
       "[{'id': 'f168b86d-f179-489b-a815-9c1633f1d945',\n",
       "  'conv_id': '122',\n",
       "  'role': 'user',\n",
       "  'content': {'type': 'text', 'content': 'Hello'},\n",
       "  'metadata': {},\n",
       "  'created_at': datetime.datetime(2025, 9, 4, 4, 58, 13, 516620, tzinfo=datetime.timezone.utc)},\n",
       " {'id': 'a929d84e-812a-4b94-b546-b77b65ecee9b',\n",
       "  'conv_id': '122',\n",
       "  'role': 'user',\n",
       "  'content': {'type': 'text', 'content': 'Hello'},\n",
       "  'metadata': {},\n",
       "  'created_at': datetime.datetime(2025, 9, 4, 4, 58, 24, 918362, tzinfo=datetime.timezone.utc)}]"
      ]
     },
     "execution_count": 24,
     "metadata": {},
     "output_type": "execute_result"
    }
   ],
   "source": [
    "db_service.get_conversation_messages(\"122\")"
   ]
  }
 ],
 "metadata": {
  "kernelspec": {
   "display_name": ".venv",
   "language": "python",
   "name": "python3"
  },
  "language_info": {
   "codemirror_mode": {
    "name": "ipython",
    "version": 3
   },
   "file_extension": ".py",
   "mimetype": "text/x-python",
   "name": "python",
   "nbconvert_exporter": "python",
   "pygments_lexer": "ipython3",
   "version": "3.12.3"
  }
 },
 "nbformat": 4,
 "nbformat_minor": 5
}
