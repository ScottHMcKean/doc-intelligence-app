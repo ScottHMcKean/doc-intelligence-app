{
 "cells": [
  {
   "cell_type": "markdown",
   "id": "11f165f3",
   "metadata": {},
   "source": [
    "## Service Setup\n",
    "\n",
    "This notebooks sets up and verifies the services needed for the Document Intelligence app. The services include:\n",
    "\n",
    "1. Storage Service (Volumes)\n",
    "2. Database Service (Lakebase)\n",
    "3. Document Service (DBSQL)\n",
    "4. Agent Service (Model Serving)\n",
    "\n",
    "These services are orchestrated by the application, but this notebook sets up and verifies each service individually."
   ]
  },
  {
   "cell_type": "markdown",
   "id": "db1376b3",
   "metadata": {},
   "source": [
    "We use the workspace client extensively throughout the app and repo, so first thing is to validate our connection."
   ]
  },
  {
   "cell_type": "code",
   "execution_count": null,
   "id": "e831190b",
   "metadata": {},
   "outputs": [
    {
     "data": {
      "text/plain": [
       "User(active=True, display_name='Scott McKean', emails=[ComplexValue(display=None, primary=True, ref=None, type='work', value='scott.mckean@databricks.com')], entitlements=[], external_id='87c2d573-1242-4b6a-8679-2443d3f8ea3e', groups=[ComplexValue(display='account users', primary=None, ref='Groups/5005646110826197', type='direct', value='5005646110826197'), ComplexValue(display='team.fieldeng-all', primary=None, ref='Groups/523217415113412', type='direct', value='523217415113412'), ComplexValue(display='admins', primary=None, ref='Groups/8460646211285870', type='direct', value='8460646211285870'), ComplexValue(display='Canada SA', primary=None, ref='Groups/502866645381412', type='direct', value='502866645381412')], id='7873535765378608', name=Name(family_name='McKean', given_name='Scott'), roles=[], schemas=[<UserSchema.URN_IETF_PARAMS_SCIM_SCHEMAS_CORE_2_0_USER: 'urn:ietf:params:scim:schemas:core:2.0:User'>, <UserSchema.URN_IETF_PARAMS_SCIM_SCHEMAS_EXTENSION_WORKSPACE_2_0_USER: 'urn:ietf:params:scim:schemas:extension:workspace:2.0:User'>], user_name='scott.mckean@databricks.com')"
      ]
     },
     "execution_count": 4,
     "metadata": {},
     "output_type": "execute_result"
    }
   ],
   "source": [
    "# Validate Databricks connection\n",
    "from doc_intel.utils import get_workspace_client\n",
    "client = get_workspace_client()\n",
    "client.current_user.me()"
   ]
  },
  {
   "cell_type": "code",
   "execution_count": null,
   "id": "88e422f7",
   "metadata": {},
   "outputs": [],
   "source": []
  }
 ],
 "metadata": {
  "kernelspec": {
   "display_name": ".venv",
   "language": "python",
   "name": "python3"
  },
  "language_info": {
   "codemirror_mode": {
    "name": "ipython",
    "version": 3
   },
   "file_extension": ".py",
   "mimetype": "text/x-python",
   "name": "python",
   "nbconvert_exporter": "python",
   "pygments_lexer": "ipython3",
   "version": "3.12.3"
  }
 },
 "nbformat": 4,
 "nbformat_minor": 5
}
