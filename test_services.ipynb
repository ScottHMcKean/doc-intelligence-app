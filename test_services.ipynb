{
 "cells": [
  {
   "cell_type": "markdown",
   "metadata": {},
   "source": [
    "# Document Intelligence Services Test Notebook\n",
    "\n",
    "This notebook tests each service individually and demonstrates the complete flow:\n",
    "1. **Agent Service**: Start and store general conversations without documents\n",
    "2. **Storage & Document Services**: Upload and process documents\n",
    "3. **Agent Service with RAG**: Have conversations about uploaded documents\n",
    "\n",
    "## Setup\n",
    "First, let's import the necessary modules and initialize the application."
   ]
  },
  {
   "cell_type": "code",
   "execution_count": null,
   "metadata": {},
   "outputs": [
    {
     "name": "stdout",
     "output_type": "stream",
     "text": [
      "✅ All imports successful\n"
     ]
    }
   ],
   "source": [
    "import sys\n",
    "import os\n",
    "from pathlib import Path\n",
    "import uuid\n",
    "from datetime import datetime\n",
    "\n",
    "# Add the src directory to the path\n",
    "sys.path.insert(0, str(Path.cwd() / \"src\"))\n",
    "\n",
    "# Import the application and services\n",
    "from doc_intel.app import DocumentIntelligenceApp\n",
    "from doc_intel.services.agent_service import AgentService\n",
    "from doc_intel.services.storage_service import StorageService\n",
    "from doc_intel.services.document_service import DocumentService\n",
    "from doc_intel.services.database_service import DatabaseService\n",
    "\n",
    "print(\"✅ All imports successful\")"
   ]
  },
  {
   "cell_type": "markdown",
   "metadata": {},
   "source": [
    "## Initialize the Application\n",
    "\n",
    "Let's start by initializing the Document Intelligence application and checking the system status."
   ]
  },
  {
   "cell_type": "code",
   "execution_count": 2,
   "metadata": {},
   "outputs": [
    {
     "name": "stdout",
     "output_type": "stream",
     "text": [
      "✅ Application initialized successfully\n",
      "\n",
      "📊 System Status:\n",
      "✅ Database: Database connection successful\n",
      "✅ Agent: AI agent and vector search capabilities available\n",
      "✅ Storage: Databricks connection available\n",
      "✅ Document: Databricks connection available\n",
      "\n",
      "🏥 Overall Health: ✅ Healthy\n"
     ]
    }
   ],
   "source": [
    "# Initialize the application\n",
    "app = DocumentIntelligenceApp()\n",
    "print(\"✅ Application initialized successfully\")\n",
    "\n",
    "# Check system status\n",
    "status = app.get_system_status()\n",
    "print(\"\\n📊 System Status:\")\n",
    "for service_name, service_status in status[\"services\"].items():\n",
    "    status_icon = \"✅\" if service_status[\"available\"] else \"❌\"\n",
    "    print(f\"{status_icon} {service_name.title()}: {service_status['message']}\")\n",
    "\n",
    "print(f\"\\n🏥 Overall Health: {'✅ Healthy' if status['overall_health'] else '❌ Unhealthy'}\")"
   ]
  },
  {
   "cell_type": "markdown",
   "metadata": {},
   "source": [
    "## Test 1: Agent Service - General Conversations\n",
    "\n",
    "Let's test the agent service's ability to handle general conversations without documents."
   ]
  },
  {
   "cell_type": "code",
   "execution_count": 5,
   "metadata": {},
   "outputs": [
    {
     "ename": "ProgrammingError",
     "evalue": "(psycopg2.errors.UndefinedColumn) column langchain_pg_embedding.id does not exist\nLINE 1: SELECT langchain_pg_embedding.id AS langchain_pg_embedding_i...\n               ^\n\n[SQL: SELECT langchain_pg_embedding.id AS langchain_pg_embedding_id, langchain_pg_embedding.collection_id AS langchain_pg_embedding_collection_id, langchain_pg_embedding.embedding AS langchain_pg_embedding_embedding, langchain_pg_embedding.document AS langchain_pg_embedding_document, langchain_pg_embedding.cmetadata AS langchain_pg_embedding_cmetadata, langchain_pg_embedding.embedding <=> %(embedding_1)s AS distance \nFROM langchain_pg_embedding JOIN langchain_pg_collection ON langchain_pg_embedding.collection_id = langchain_pg_collection.uuid \nWHERE langchain_pg_embedding.collection_id = %(collection_id_1)s::UUID ORDER BY distance ASC \n LIMIT %(param_1)s]\n[parameters: {'embedding_1': '[-0.58447265625,-0.39794921875,0.027435302734375,-0.0316162109375,-0.040374755859375,0.1781005859375,-0.324951171875,0.309814453125,-0.473876953125,- ... (14820 characters truncated) ... 375,-1.595703125,-0.2222900390625,-0.59716796875,-0.4765625,1.0,0.939453125,0.736328125,0.2452392578125,0.69873046875,-0.294189453125,-0.62744140625]', 'collection_id_1': UUID('df69593a-050d-48a4-b4e4-9243aaf99b7b'), 'param_1': 4}]\n(Background on this error at: https://sqlalche.me/e/20/f405)",
     "output_type": "error",
     "traceback": [
      "\u001b[31m---------------------------------------------------------------------------\u001b[39m",
      "\u001b[31mUndefinedColumn\u001b[39m                           Traceback (most recent call last)",
      "\u001b[36mFile \u001b[39m\u001b[32m~/Repos/doc-intelligence-app/.venv/lib/python3.12/site-packages/sqlalchemy/engine/base.py:1967\u001b[39m, in \u001b[36mConnection._exec_single_context\u001b[39m\u001b[34m(self, dialect, context, statement, parameters)\u001b[39m\n\u001b[32m   1966\u001b[39m     \u001b[38;5;28;01mif\u001b[39;00m \u001b[38;5;129;01mnot\u001b[39;00m evt_handled:\n\u001b[32m-> \u001b[39m\u001b[32m1967\u001b[39m         \u001b[38;5;28;43mself\u001b[39;49m\u001b[43m.\u001b[49m\u001b[43mdialect\u001b[49m\u001b[43m.\u001b[49m\u001b[43mdo_execute\u001b[49m\u001b[43m(\u001b[49m\n\u001b[32m   1968\u001b[39m \u001b[43m            \u001b[49m\u001b[43mcursor\u001b[49m\u001b[43m,\u001b[49m\u001b[43m \u001b[49m\u001b[43mstr_statement\u001b[49m\u001b[43m,\u001b[49m\u001b[43m \u001b[49m\u001b[43meffective_parameters\u001b[49m\u001b[43m,\u001b[49m\u001b[43m \u001b[49m\u001b[43mcontext\u001b[49m\n\u001b[32m   1969\u001b[39m \u001b[43m        \u001b[49m\u001b[43m)\u001b[49m\n\u001b[32m   1971\u001b[39m \u001b[38;5;28;01mif\u001b[39;00m \u001b[38;5;28mself\u001b[39m._has_events \u001b[38;5;129;01mor\u001b[39;00m \u001b[38;5;28mself\u001b[39m.engine._has_events:\n",
      "\u001b[36mFile \u001b[39m\u001b[32m~/Repos/doc-intelligence-app/.venv/lib/python3.12/site-packages/sqlalchemy/engine/default.py:951\u001b[39m, in \u001b[36mDefaultDialect.do_execute\u001b[39m\u001b[34m(self, cursor, statement, parameters, context)\u001b[39m\n\u001b[32m    950\u001b[39m \u001b[38;5;28;01mdef\u001b[39;00m\u001b[38;5;250m \u001b[39m\u001b[34mdo_execute\u001b[39m(\u001b[38;5;28mself\u001b[39m, cursor, statement, parameters, context=\u001b[38;5;28;01mNone\u001b[39;00m):\n\u001b[32m--> \u001b[39m\u001b[32m951\u001b[39m     \u001b[43mcursor\u001b[49m\u001b[43m.\u001b[49m\u001b[43mexecute\u001b[49m\u001b[43m(\u001b[49m\u001b[43mstatement\u001b[49m\u001b[43m,\u001b[49m\u001b[43m \u001b[49m\u001b[43mparameters\u001b[49m\u001b[43m)\u001b[49m\n",
      "\u001b[31mUndefinedColumn\u001b[39m: column langchain_pg_embedding.id does not exist\nLINE 1: SELECT langchain_pg_embedding.id AS langchain_pg_embedding_i...\n               ^\n",
      "\nThe above exception was the direct cause of the following exception:\n",
      "\u001b[31mProgrammingError\u001b[39m                          Traceback (most recent call last)",
      "\u001b[36mCell\u001b[39m\u001b[36m \u001b[39m\u001b[32mIn[5]\u001b[39m\u001b[32m, line 1\u001b[39m\n\u001b[32m----> \u001b[39m\u001b[32m1\u001b[39m \u001b[43mapp\u001b[49m\u001b[43m.\u001b[49m\u001b[43magent_service\u001b[49m\u001b[43m.\u001b[49m\u001b[43mvectorstore\u001b[49m\u001b[43m.\u001b[49m\u001b[43msimilarity_search\u001b[49m\u001b[43m(\u001b[49m\u001b[33;43m\"\u001b[39;49m\u001b[33;43mHello, world!\u001b[39;49m\u001b[33;43m\"\u001b[39;49m\u001b[43m)\u001b[49m\n",
      "\u001b[36mFile \u001b[39m\u001b[32m~/Repos/doc-intelligence-app/.venv/lib/python3.12/site-packages/langchain_postgres/vectorstores.py:943\u001b[39m, in \u001b[36mPGVector.similarity_search\u001b[39m\u001b[34m(self, query, k, filter, **kwargs)\u001b[39m\n\u001b[32m    941\u001b[39m \u001b[38;5;28;01massert\u001b[39;00m \u001b[38;5;129;01mnot\u001b[39;00m \u001b[38;5;28mself\u001b[39m._async_engine, \u001b[33m\"\u001b[39m\u001b[33mThis method must be called without async_mode\u001b[39m\u001b[33m\"\u001b[39m\n\u001b[32m    942\u001b[39m embedding = \u001b[38;5;28mself\u001b[39m.embeddings.embed_query(query)\n\u001b[32m--> \u001b[39m\u001b[32m943\u001b[39m \u001b[38;5;28;01mreturn\u001b[39;00m \u001b[38;5;28;43mself\u001b[39;49m\u001b[43m.\u001b[49m\u001b[43msimilarity_search_by_vector\u001b[49m\u001b[43m(\u001b[49m\n\u001b[32m    944\u001b[39m \u001b[43m    \u001b[49m\u001b[43membedding\u001b[49m\u001b[43m=\u001b[49m\u001b[43membedding\u001b[49m\u001b[43m,\u001b[49m\n\u001b[32m    945\u001b[39m \u001b[43m    \u001b[49m\u001b[43mk\u001b[49m\u001b[43m=\u001b[49m\u001b[43mk\u001b[49m\u001b[43m,\u001b[49m\n\u001b[32m    946\u001b[39m \u001b[43m    \u001b[49m\u001b[38;5;28;43mfilter\u001b[39;49m\u001b[43m=\u001b[49m\u001b[38;5;28;43mfilter\u001b[39;49m\u001b[43m,\u001b[49m\n\u001b[32m    947\u001b[39m \u001b[43m\u001b[49m\u001b[43m)\u001b[49m\n",
      "\u001b[36mFile \u001b[39m\u001b[32m~/Repos/doc-intelligence-app/.venv/lib/python3.12/site-packages/langchain_postgres/vectorstores.py:1498\u001b[39m, in \u001b[36mPGVector.similarity_search_by_vector\u001b[39m\u001b[34m(self, embedding, k, filter, **kwargs)\u001b[39m\n\u001b[32m   1487\u001b[39m \u001b[38;5;250m\u001b[39m\u001b[33;03m\"\"\"Return docs most similar to embedding vector.\u001b[39;00m\n\u001b[32m   1488\u001b[39m \n\u001b[32m   1489\u001b[39m \u001b[33;03mArgs:\u001b[39;00m\n\u001b[32m   (...)\u001b[39m\u001b[32m   1495\u001b[39m \u001b[33;03m    List of Documents most similar to the query vector.\u001b[39;00m\n\u001b[32m   1496\u001b[39m \u001b[33;03m\"\"\"\u001b[39;00m\n\u001b[32m   1497\u001b[39m \u001b[38;5;28;01massert\u001b[39;00m \u001b[38;5;129;01mnot\u001b[39;00m \u001b[38;5;28mself\u001b[39m._async_engine, \u001b[33m\"\u001b[39m\u001b[33mThis method must be called without async_mode\u001b[39m\u001b[33m\"\u001b[39m\n\u001b[32m-> \u001b[39m\u001b[32m1498\u001b[39m docs_and_scores = \u001b[38;5;28;43mself\u001b[39;49m\u001b[43m.\u001b[49m\u001b[43msimilarity_search_with_score_by_vector\u001b[49m\u001b[43m(\u001b[49m\n\u001b[32m   1499\u001b[39m \u001b[43m    \u001b[49m\u001b[43membedding\u001b[49m\u001b[43m=\u001b[49m\u001b[43membedding\u001b[49m\u001b[43m,\u001b[49m\u001b[43m \u001b[49m\u001b[43mk\u001b[49m\u001b[43m=\u001b[49m\u001b[43mk\u001b[49m\u001b[43m,\u001b[49m\u001b[43m \u001b[49m\u001b[38;5;28;43mfilter\u001b[39;49m\u001b[43m=\u001b[49m\u001b[38;5;28;43mfilter\u001b[39;49m\n\u001b[32m   1500\u001b[39m \u001b[43m\u001b[49m\u001b[43m)\u001b[49m\n\u001b[32m   1501\u001b[39m \u001b[38;5;28;01mreturn\u001b[39;00m _results_to_docs(docs_and_scores)\n",
      "\u001b[36mFile \u001b[39m\u001b[32m~/Repos/doc-intelligence-app/.venv/lib/python3.12/site-packages/langchain_postgres/vectorstores.py:1041\u001b[39m, in \u001b[36mPGVector.similarity_search_with_score_by_vector\u001b[39m\u001b[34m(self, embedding, k, filter)\u001b[39m\n\u001b[32m   1034\u001b[39m \u001b[38;5;28;01mdef\u001b[39;00m\u001b[38;5;250m \u001b[39m\u001b[34msimilarity_search_with_score_by_vector\u001b[39m(\n\u001b[32m   1035\u001b[39m     \u001b[38;5;28mself\u001b[39m,\n\u001b[32m   1036\u001b[39m     embedding: List[\u001b[38;5;28mfloat\u001b[39m],\n\u001b[32m   1037\u001b[39m     k: \u001b[38;5;28mint\u001b[39m = \u001b[32m4\u001b[39m,\n\u001b[32m   1038\u001b[39m     \u001b[38;5;28mfilter\u001b[39m: Optional[\u001b[38;5;28mdict\u001b[39m] = \u001b[38;5;28;01mNone\u001b[39;00m,\n\u001b[32m   1039\u001b[39m ) -> List[Tuple[Document, \u001b[38;5;28mfloat\u001b[39m]]:\n\u001b[32m   1040\u001b[39m     \u001b[38;5;28;01massert\u001b[39;00m \u001b[38;5;129;01mnot\u001b[39;00m \u001b[38;5;28mself\u001b[39m._async_engine, \u001b[33m\"\u001b[39m\u001b[33mThis method must be called without async_mode\u001b[39m\u001b[33m\"\u001b[39m\n\u001b[32m-> \u001b[39m\u001b[32m1041\u001b[39m     results = \u001b[38;5;28;43mself\u001b[39;49m\u001b[43m.\u001b[49m\u001b[43m__query_collection\u001b[49m\u001b[43m(\u001b[49m\u001b[43membedding\u001b[49m\u001b[43m=\u001b[49m\u001b[43membedding\u001b[49m\u001b[43m,\u001b[49m\u001b[43m \u001b[49m\u001b[43mk\u001b[49m\u001b[43m=\u001b[49m\u001b[43mk\u001b[49m\u001b[43m,\u001b[49m\u001b[43m \u001b[49m\u001b[38;5;28;43mfilter\u001b[39;49m\u001b[43m=\u001b[49m\u001b[38;5;28;43mfilter\u001b[39;49m\u001b[43m)\u001b[49m\n\u001b[32m   1043\u001b[39m     \u001b[38;5;28;01mreturn\u001b[39;00m \u001b[38;5;28mself\u001b[39m._results_to_docs_and_scores(results)\n",
      "\u001b[36mFile \u001b[39m\u001b[32m~/Repos/doc-intelligence-app/.venv/lib/python3.12/site-packages/langchain_postgres/vectorstores.py:1431\u001b[39m, in \u001b[36mPGVector.__query_collection\u001b[39m\u001b[34m(self, embedding, k, filter)\u001b[39m\n\u001b[32m   1415\u001b[39m             filter_by.extend(filter_clauses)\n\u001b[32m   1417\u001b[39m     _type = \u001b[38;5;28mself\u001b[39m.EmbeddingStore\n\u001b[32m   1419\u001b[39m     results: List[Any] = (\n\u001b[32m   1420\u001b[39m         \u001b[43msession\u001b[49m\u001b[43m.\u001b[49m\u001b[43mquery\u001b[49m\u001b[43m(\u001b[49m\n\u001b[32m   1421\u001b[39m \u001b[43m            \u001b[49m\u001b[38;5;28;43mself\u001b[39;49m\u001b[43m.\u001b[49m\u001b[43mEmbeddingStore\u001b[49m\u001b[43m,\u001b[49m\n\u001b[32m   1422\u001b[39m \u001b[43m            \u001b[49m\u001b[38;5;28;43mself\u001b[39;49m\u001b[43m.\u001b[49m\u001b[43mdistance_strategy\u001b[49m\u001b[43m(\u001b[49m\u001b[43membedding\u001b[49m\u001b[43m)\u001b[49m\u001b[43m.\u001b[49m\u001b[43mlabel\u001b[49m\u001b[43m(\u001b[49m\u001b[33;43m\"\u001b[39;49m\u001b[33;43mdistance\u001b[39;49m\u001b[33;43m\"\u001b[39;49m\u001b[43m)\u001b[49m\u001b[43m,\u001b[49m\n\u001b[32m   1423\u001b[39m \u001b[43m        \u001b[49m\u001b[43m)\u001b[49m\n\u001b[32m   1424\u001b[39m \u001b[43m        \u001b[49m\u001b[43m.\u001b[49m\u001b[43mfilter\u001b[49m\u001b[43m(\u001b[49m\u001b[43m*\u001b[49m\u001b[43mfilter_by\u001b[49m\u001b[43m)\u001b[49m\n\u001b[32m   1425\u001b[39m \u001b[43m        \u001b[49m\u001b[43m.\u001b[49m\u001b[43morder_by\u001b[49m\u001b[43m(\u001b[49m\u001b[43msqlalchemy\u001b[49m\u001b[43m.\u001b[49m\u001b[43masc\u001b[49m\u001b[43m(\u001b[49m\u001b[33;43m\"\u001b[39;49m\u001b[33;43mdistance\u001b[39;49m\u001b[33;43m\"\u001b[39;49m\u001b[43m)\u001b[49m\u001b[43m)\u001b[49m\n\u001b[32m   1426\u001b[39m \u001b[43m        \u001b[49m\u001b[43m.\u001b[49m\u001b[43mjoin\u001b[49m\u001b[43m(\u001b[49m\n\u001b[32m   1427\u001b[39m \u001b[43m            \u001b[49m\u001b[38;5;28;43mself\u001b[39;49m\u001b[43m.\u001b[49m\u001b[43mCollectionStore\u001b[49m\u001b[43m,\u001b[49m\n\u001b[32m   1428\u001b[39m \u001b[43m            \u001b[49m\u001b[38;5;28;43mself\u001b[39;49m\u001b[43m.\u001b[49m\u001b[43mEmbeddingStore\u001b[49m\u001b[43m.\u001b[49m\u001b[43mcollection_id\u001b[49m\u001b[43m \u001b[49m\u001b[43m==\u001b[49m\u001b[43m \u001b[49m\u001b[38;5;28;43mself\u001b[39;49m\u001b[43m.\u001b[49m\u001b[43mCollectionStore\u001b[49m\u001b[43m.\u001b[49m\u001b[43muuid\u001b[49m\u001b[43m,\u001b[49m\n\u001b[32m   1429\u001b[39m \u001b[43m        \u001b[49m\u001b[43m)\u001b[49m\n\u001b[32m   1430\u001b[39m \u001b[43m        \u001b[49m\u001b[43m.\u001b[49m\u001b[43mlimit\u001b[49m\u001b[43m(\u001b[49m\u001b[43mk\u001b[49m\u001b[43m)\u001b[49m\n\u001b[32m-> \u001b[39m\u001b[32m1431\u001b[39m \u001b[43m        \u001b[49m\u001b[43m.\u001b[49m\u001b[43mall\u001b[49m\u001b[43m(\u001b[49m\u001b[43m)\u001b[49m\n\u001b[32m   1432\u001b[39m     )\n\u001b[32m   1434\u001b[39m \u001b[38;5;28;01mreturn\u001b[39;00m results\n",
      "\u001b[36mFile \u001b[39m\u001b[32m~/Repos/doc-intelligence-app/.venv/lib/python3.12/site-packages/sqlalchemy/orm/query.py:2704\u001b[39m, in \u001b[36mQuery.all\u001b[39m\u001b[34m(self)\u001b[39m\n\u001b[32m   2682\u001b[39m \u001b[38;5;28;01mdef\u001b[39;00m\u001b[38;5;250m \u001b[39m\u001b[34mall\u001b[39m(\u001b[38;5;28mself\u001b[39m) -> List[_T]:\n\u001b[32m   2683\u001b[39m \u001b[38;5;250m    \u001b[39m\u001b[33;03m\"\"\"Return the results represented by this :class:`_query.Query`\u001b[39;00m\n\u001b[32m   2684\u001b[39m \u001b[33;03m    as a list.\u001b[39;00m\n\u001b[32m   2685\u001b[39m \n\u001b[32m   (...)\u001b[39m\u001b[32m   2702\u001b[39m \u001b[33;03m        :meth:`_engine.Result.scalars` - v2 comparable method.\u001b[39;00m\n\u001b[32m   2703\u001b[39m \u001b[33;03m    \"\"\"\u001b[39;00m\n\u001b[32m-> \u001b[39m\u001b[32m2704\u001b[39m     \u001b[38;5;28;01mreturn\u001b[39;00m \u001b[38;5;28;43mself\u001b[39;49m\u001b[43m.\u001b[49m\u001b[43m_iter\u001b[49m\u001b[43m(\u001b[49m\u001b[43m)\u001b[49m.all()\n",
      "\u001b[36mFile \u001b[39m\u001b[32m~/Repos/doc-intelligence-app/.venv/lib/python3.12/site-packages/sqlalchemy/orm/query.py:2857\u001b[39m, in \u001b[36mQuery._iter\u001b[39m\u001b[34m(self)\u001b[39m\n\u001b[32m   2854\u001b[39m params = \u001b[38;5;28mself\u001b[39m._params\n\u001b[32m   2856\u001b[39m statement = \u001b[38;5;28mself\u001b[39m._statement_20()\n\u001b[32m-> \u001b[39m\u001b[32m2857\u001b[39m result: Union[ScalarResult[_T], Result[_T]] = \u001b[38;5;28;43mself\u001b[39;49m\u001b[43m.\u001b[49m\u001b[43msession\u001b[49m\u001b[43m.\u001b[49m\u001b[43mexecute\u001b[49m\u001b[43m(\u001b[49m\n\u001b[32m   2858\u001b[39m \u001b[43m    \u001b[49m\u001b[43mstatement\u001b[49m\u001b[43m,\u001b[49m\n\u001b[32m   2859\u001b[39m \u001b[43m    \u001b[49m\u001b[43mparams\u001b[49m\u001b[43m,\u001b[49m\n\u001b[32m   2860\u001b[39m \u001b[43m    \u001b[49m\u001b[43mexecution_options\u001b[49m\u001b[43m=\u001b[49m\u001b[43m{\u001b[49m\u001b[33;43m\"\u001b[39;49m\u001b[33;43m_sa_orm_load_options\u001b[39;49m\u001b[33;43m\"\u001b[39;49m\u001b[43m:\u001b[49m\u001b[43m \u001b[49m\u001b[38;5;28;43mself\u001b[39;49m\u001b[43m.\u001b[49m\u001b[43mload_options\u001b[49m\u001b[43m}\u001b[49m\u001b[43m,\u001b[49m\n\u001b[32m   2861\u001b[39m \u001b[43m\u001b[49m\u001b[43m)\u001b[49m\n\u001b[32m   2863\u001b[39m \u001b[38;5;66;03m# legacy: automatically set scalars, unique\u001b[39;00m\n\u001b[32m   2864\u001b[39m \u001b[38;5;28;01mif\u001b[39;00m result._attributes.get(\u001b[33m\"\u001b[39m\u001b[33mis_single_entity\u001b[39m\u001b[33m\"\u001b[39m, \u001b[38;5;28;01mFalse\u001b[39;00m):\n",
      "\u001b[36mFile \u001b[39m\u001b[32m~/Repos/doc-intelligence-app/.venv/lib/python3.12/site-packages/sqlalchemy/orm/session.py:2365\u001b[39m, in \u001b[36mSession.execute\u001b[39m\u001b[34m(self, statement, params, execution_options, bind_arguments, _parent_execute_state, _add_event)\u001b[39m\n\u001b[32m   2305\u001b[39m \u001b[38;5;28;01mdef\u001b[39;00m\u001b[38;5;250m \u001b[39m\u001b[34mexecute\u001b[39m(\n\u001b[32m   2306\u001b[39m     \u001b[38;5;28mself\u001b[39m,\n\u001b[32m   2307\u001b[39m     statement: Executable,\n\u001b[32m   (...)\u001b[39m\u001b[32m   2313\u001b[39m     _add_event: Optional[Any] = \u001b[38;5;28;01mNone\u001b[39;00m,\n\u001b[32m   2314\u001b[39m ) -> Result[Any]:\n\u001b[32m   2315\u001b[39m \u001b[38;5;250m    \u001b[39m\u001b[33mr\u001b[39m\u001b[33;03m\"\"\"Execute a SQL expression construct.\u001b[39;00m\n\u001b[32m   2316\u001b[39m \n\u001b[32m   2317\u001b[39m \u001b[33;03m    Returns a :class:`_engine.Result` object representing\u001b[39;00m\n\u001b[32m   (...)\u001b[39m\u001b[32m   2363\u001b[39m \n\u001b[32m   2364\u001b[39m \u001b[33;03m    \"\"\"\u001b[39;00m\n\u001b[32m-> \u001b[39m\u001b[32m2365\u001b[39m     \u001b[38;5;28;01mreturn\u001b[39;00m \u001b[38;5;28;43mself\u001b[39;49m\u001b[43m.\u001b[49m\u001b[43m_execute_internal\u001b[49m\u001b[43m(\u001b[49m\n\u001b[32m   2366\u001b[39m \u001b[43m        \u001b[49m\u001b[43mstatement\u001b[49m\u001b[43m,\u001b[49m\n\u001b[32m   2367\u001b[39m \u001b[43m        \u001b[49m\u001b[43mparams\u001b[49m\u001b[43m,\u001b[49m\n\u001b[32m   2368\u001b[39m \u001b[43m        \u001b[49m\u001b[43mexecution_options\u001b[49m\u001b[43m=\u001b[49m\u001b[43mexecution_options\u001b[49m\u001b[43m,\u001b[49m\n\u001b[32m   2369\u001b[39m \u001b[43m        \u001b[49m\u001b[43mbind_arguments\u001b[49m\u001b[43m=\u001b[49m\u001b[43mbind_arguments\u001b[49m\u001b[43m,\u001b[49m\n\u001b[32m   2370\u001b[39m \u001b[43m        \u001b[49m\u001b[43m_parent_execute_state\u001b[49m\u001b[43m=\u001b[49m\u001b[43m_parent_execute_state\u001b[49m\u001b[43m,\u001b[49m\n\u001b[32m   2371\u001b[39m \u001b[43m        \u001b[49m\u001b[43m_add_event\u001b[49m\u001b[43m=\u001b[49m\u001b[43m_add_event\u001b[49m\u001b[43m,\u001b[49m\n\u001b[32m   2372\u001b[39m \u001b[43m    \u001b[49m\u001b[43m)\u001b[49m\n",
      "\u001b[36mFile \u001b[39m\u001b[32m~/Repos/doc-intelligence-app/.venv/lib/python3.12/site-packages/sqlalchemy/orm/session.py:2251\u001b[39m, in \u001b[36mSession._execute_internal\u001b[39m\u001b[34m(self, statement, params, execution_options, bind_arguments, _parent_execute_state, _add_event, _scalar_result)\u001b[39m\n\u001b[32m   2246\u001b[39m     \u001b[38;5;28;01mreturn\u001b[39;00m conn.scalar(\n\u001b[32m   2247\u001b[39m         statement, params \u001b[38;5;129;01mor\u001b[39;00m {}, execution_options=execution_options\n\u001b[32m   2248\u001b[39m     )\n\u001b[32m   2250\u001b[39m \u001b[38;5;28;01mif\u001b[39;00m compile_state_cls:\n\u001b[32m-> \u001b[39m\u001b[32m2251\u001b[39m     result: Result[Any] = \u001b[43mcompile_state_cls\u001b[49m\u001b[43m.\u001b[49m\u001b[43morm_execute_statement\u001b[49m\u001b[43m(\u001b[49m\n\u001b[32m   2252\u001b[39m \u001b[43m        \u001b[49m\u001b[38;5;28;43mself\u001b[39;49m\u001b[43m,\u001b[49m\n\u001b[32m   2253\u001b[39m \u001b[43m        \u001b[49m\u001b[43mstatement\u001b[49m\u001b[43m,\u001b[49m\n\u001b[32m   2254\u001b[39m \u001b[43m        \u001b[49m\u001b[43mparams\u001b[49m\u001b[43m \u001b[49m\u001b[38;5;129;43;01mor\u001b[39;49;00m\u001b[43m \u001b[49m\u001b[43m{\u001b[49m\u001b[43m}\u001b[49m\u001b[43m,\u001b[49m\n\u001b[32m   2255\u001b[39m \u001b[43m        \u001b[49m\u001b[43mexecution_options\u001b[49m\u001b[43m,\u001b[49m\n\u001b[32m   2256\u001b[39m \u001b[43m        \u001b[49m\u001b[43mbind_arguments\u001b[49m\u001b[43m,\u001b[49m\n\u001b[32m   2257\u001b[39m \u001b[43m        \u001b[49m\u001b[43mconn\u001b[49m\u001b[43m,\u001b[49m\n\u001b[32m   2258\u001b[39m \u001b[43m    \u001b[49m\u001b[43m)\u001b[49m\n\u001b[32m   2259\u001b[39m \u001b[38;5;28;01melse\u001b[39;00m:\n\u001b[32m   2260\u001b[39m     result = conn.execute(\n\u001b[32m   2261\u001b[39m         statement, params \u001b[38;5;129;01mor\u001b[39;00m {}, execution_options=execution_options\n\u001b[32m   2262\u001b[39m     )\n",
      "\u001b[36mFile \u001b[39m\u001b[32m~/Repos/doc-intelligence-app/.venv/lib/python3.12/site-packages/sqlalchemy/orm/context.py:306\u001b[39m, in \u001b[36mAbstractORMCompileState.orm_execute_statement\u001b[39m\u001b[34m(cls, session, statement, params, execution_options, bind_arguments, conn)\u001b[39m\n\u001b[32m    296\u001b[39m \u001b[38;5;129m@classmethod\u001b[39m\n\u001b[32m    297\u001b[39m \u001b[38;5;28;01mdef\u001b[39;00m\u001b[38;5;250m \u001b[39m\u001b[34morm_execute_statement\u001b[39m(\n\u001b[32m    298\u001b[39m     \u001b[38;5;28mcls\u001b[39m,\n\u001b[32m   (...)\u001b[39m\u001b[32m    304\u001b[39m     conn,\n\u001b[32m    305\u001b[39m ) -> Result:\n\u001b[32m--> \u001b[39m\u001b[32m306\u001b[39m     result = \u001b[43mconn\u001b[49m\u001b[43m.\u001b[49m\u001b[43mexecute\u001b[49m\u001b[43m(\u001b[49m\n\u001b[32m    307\u001b[39m \u001b[43m        \u001b[49m\u001b[43mstatement\u001b[49m\u001b[43m,\u001b[49m\u001b[43m \u001b[49m\u001b[43mparams\u001b[49m\u001b[43m \u001b[49m\u001b[38;5;129;43;01mor\u001b[39;49;00m\u001b[43m \u001b[49m\u001b[43m{\u001b[49m\u001b[43m}\u001b[49m\u001b[43m,\u001b[49m\u001b[43m \u001b[49m\u001b[43mexecution_options\u001b[49m\u001b[43m=\u001b[49m\u001b[43mexecution_options\u001b[49m\n\u001b[32m    308\u001b[39m \u001b[43m    \u001b[49m\u001b[43m)\u001b[49m\n\u001b[32m    309\u001b[39m     \u001b[38;5;28;01mreturn\u001b[39;00m \u001b[38;5;28mcls\u001b[39m.orm_setup_cursor_result(\n\u001b[32m    310\u001b[39m         session,\n\u001b[32m    311\u001b[39m         statement,\n\u001b[32m   (...)\u001b[39m\u001b[32m    315\u001b[39m         result,\n\u001b[32m    316\u001b[39m     )\n",
      "\u001b[36mFile \u001b[39m\u001b[32m~/Repos/doc-intelligence-app/.venv/lib/python3.12/site-packages/sqlalchemy/engine/base.py:1419\u001b[39m, in \u001b[36mConnection.execute\u001b[39m\u001b[34m(self, statement, parameters, execution_options)\u001b[39m\n\u001b[32m   1417\u001b[39m     \u001b[38;5;28;01mraise\u001b[39;00m exc.ObjectNotExecutableError(statement) \u001b[38;5;28;01mfrom\u001b[39;00m\u001b[38;5;250m \u001b[39m\u001b[34;01merr\u001b[39;00m\n\u001b[32m   1418\u001b[39m \u001b[38;5;28;01melse\u001b[39;00m:\n\u001b[32m-> \u001b[39m\u001b[32m1419\u001b[39m     \u001b[38;5;28;01mreturn\u001b[39;00m \u001b[43mmeth\u001b[49m\u001b[43m(\u001b[49m\n\u001b[32m   1420\u001b[39m \u001b[43m        \u001b[49m\u001b[38;5;28;43mself\u001b[39;49m\u001b[43m,\u001b[49m\n\u001b[32m   1421\u001b[39m \u001b[43m        \u001b[49m\u001b[43mdistilled_parameters\u001b[49m\u001b[43m,\u001b[49m\n\u001b[32m   1422\u001b[39m \u001b[43m        \u001b[49m\u001b[43mexecution_options\u001b[49m\u001b[43m \u001b[49m\u001b[38;5;129;43;01mor\u001b[39;49;00m\u001b[43m \u001b[49m\u001b[43mNO_OPTIONS\u001b[49m\u001b[43m,\u001b[49m\n\u001b[32m   1423\u001b[39m \u001b[43m    \u001b[49m\u001b[43m)\u001b[49m\n",
      "\u001b[36mFile \u001b[39m\u001b[32m~/Repos/doc-intelligence-app/.venv/lib/python3.12/site-packages/sqlalchemy/sql/elements.py:526\u001b[39m, in \u001b[36mClauseElement._execute_on_connection\u001b[39m\u001b[34m(self, connection, distilled_params, execution_options)\u001b[39m\n\u001b[32m    524\u001b[39m     \u001b[38;5;28;01mif\u001b[39;00m TYPE_CHECKING:\n\u001b[32m    525\u001b[39m         \u001b[38;5;28;01massert\u001b[39;00m \u001b[38;5;28misinstance\u001b[39m(\u001b[38;5;28mself\u001b[39m, Executable)\n\u001b[32m--> \u001b[39m\u001b[32m526\u001b[39m     \u001b[38;5;28;01mreturn\u001b[39;00m \u001b[43mconnection\u001b[49m\u001b[43m.\u001b[49m\u001b[43m_execute_clauseelement\u001b[49m\u001b[43m(\u001b[49m\n\u001b[32m    527\u001b[39m \u001b[43m        \u001b[49m\u001b[38;5;28;43mself\u001b[39;49m\u001b[43m,\u001b[49m\u001b[43m \u001b[49m\u001b[43mdistilled_params\u001b[49m\u001b[43m,\u001b[49m\u001b[43m \u001b[49m\u001b[43mexecution_options\u001b[49m\n\u001b[32m    528\u001b[39m \u001b[43m    \u001b[49m\u001b[43m)\u001b[49m\n\u001b[32m    529\u001b[39m \u001b[38;5;28;01melse\u001b[39;00m:\n\u001b[32m    530\u001b[39m     \u001b[38;5;28;01mraise\u001b[39;00m exc.ObjectNotExecutableError(\u001b[38;5;28mself\u001b[39m)\n",
      "\u001b[36mFile \u001b[39m\u001b[32m~/Repos/doc-intelligence-app/.venv/lib/python3.12/site-packages/sqlalchemy/engine/base.py:1641\u001b[39m, in \u001b[36mConnection._execute_clauseelement\u001b[39m\u001b[34m(self, elem, distilled_parameters, execution_options)\u001b[39m\n\u001b[32m   1629\u001b[39m compiled_cache: Optional[CompiledCacheType] = execution_options.get(\n\u001b[32m   1630\u001b[39m     \u001b[33m\"\u001b[39m\u001b[33mcompiled_cache\u001b[39m\u001b[33m\"\u001b[39m, \u001b[38;5;28mself\u001b[39m.engine._compiled_cache\n\u001b[32m   1631\u001b[39m )\n\u001b[32m   1633\u001b[39m compiled_sql, extracted_params, cache_hit = elem._compile_w_cache(\n\u001b[32m   1634\u001b[39m     dialect=dialect,\n\u001b[32m   1635\u001b[39m     compiled_cache=compiled_cache,\n\u001b[32m   (...)\u001b[39m\u001b[32m   1639\u001b[39m     linting=\u001b[38;5;28mself\u001b[39m.dialect.compiler_linting | compiler.WARN_LINTING,\n\u001b[32m   1640\u001b[39m )\n\u001b[32m-> \u001b[39m\u001b[32m1641\u001b[39m ret = \u001b[38;5;28;43mself\u001b[39;49m\u001b[43m.\u001b[49m\u001b[43m_execute_context\u001b[49m\u001b[43m(\u001b[49m\n\u001b[32m   1642\u001b[39m \u001b[43m    \u001b[49m\u001b[43mdialect\u001b[49m\u001b[43m,\u001b[49m\n\u001b[32m   1643\u001b[39m \u001b[43m    \u001b[49m\u001b[43mdialect\u001b[49m\u001b[43m.\u001b[49m\u001b[43mexecution_ctx_cls\u001b[49m\u001b[43m.\u001b[49m\u001b[43m_init_compiled\u001b[49m\u001b[43m,\u001b[49m\n\u001b[32m   1644\u001b[39m \u001b[43m    \u001b[49m\u001b[43mcompiled_sql\u001b[49m\u001b[43m,\u001b[49m\n\u001b[32m   1645\u001b[39m \u001b[43m    \u001b[49m\u001b[43mdistilled_parameters\u001b[49m\u001b[43m,\u001b[49m\n\u001b[32m   1646\u001b[39m \u001b[43m    \u001b[49m\u001b[43mexecution_options\u001b[49m\u001b[43m,\u001b[49m\n\u001b[32m   1647\u001b[39m \u001b[43m    \u001b[49m\u001b[43mcompiled_sql\u001b[49m\u001b[43m,\u001b[49m\n\u001b[32m   1648\u001b[39m \u001b[43m    \u001b[49m\u001b[43mdistilled_parameters\u001b[49m\u001b[43m,\u001b[49m\n\u001b[32m   1649\u001b[39m \u001b[43m    \u001b[49m\u001b[43melem\u001b[49m\u001b[43m,\u001b[49m\n\u001b[32m   1650\u001b[39m \u001b[43m    \u001b[49m\u001b[43mextracted_params\u001b[49m\u001b[43m,\u001b[49m\n\u001b[32m   1651\u001b[39m \u001b[43m    \u001b[49m\u001b[43mcache_hit\u001b[49m\u001b[43m=\u001b[49m\u001b[43mcache_hit\u001b[49m\u001b[43m,\u001b[49m\n\u001b[32m   1652\u001b[39m \u001b[43m\u001b[49m\u001b[43m)\u001b[49m\n\u001b[32m   1653\u001b[39m \u001b[38;5;28;01mif\u001b[39;00m has_events:\n\u001b[32m   1654\u001b[39m     \u001b[38;5;28mself\u001b[39m.dispatch.after_execute(\n\u001b[32m   1655\u001b[39m         \u001b[38;5;28mself\u001b[39m,\n\u001b[32m   1656\u001b[39m         elem,\n\u001b[32m   (...)\u001b[39m\u001b[32m   1660\u001b[39m         ret,\n\u001b[32m   1661\u001b[39m     )\n",
      "\u001b[36mFile \u001b[39m\u001b[32m~/Repos/doc-intelligence-app/.venv/lib/python3.12/site-packages/sqlalchemy/engine/base.py:1846\u001b[39m, in \u001b[36mConnection._execute_context\u001b[39m\u001b[34m(self, dialect, constructor, statement, parameters, execution_options, *args, **kw)\u001b[39m\n\u001b[32m   1844\u001b[39m     \u001b[38;5;28;01mreturn\u001b[39;00m \u001b[38;5;28mself\u001b[39m._exec_insertmany_context(dialect, context)\n\u001b[32m   1845\u001b[39m \u001b[38;5;28;01melse\u001b[39;00m:\n\u001b[32m-> \u001b[39m\u001b[32m1846\u001b[39m     \u001b[38;5;28;01mreturn\u001b[39;00m \u001b[38;5;28;43mself\u001b[39;49m\u001b[43m.\u001b[49m\u001b[43m_exec_single_context\u001b[49m\u001b[43m(\u001b[49m\n\u001b[32m   1847\u001b[39m \u001b[43m        \u001b[49m\u001b[43mdialect\u001b[49m\u001b[43m,\u001b[49m\u001b[43m \u001b[49m\u001b[43mcontext\u001b[49m\u001b[43m,\u001b[49m\u001b[43m \u001b[49m\u001b[43mstatement\u001b[49m\u001b[43m,\u001b[49m\u001b[43m \u001b[49m\u001b[43mparameters\u001b[49m\n\u001b[32m   1848\u001b[39m \u001b[43m    \u001b[49m\u001b[43m)\u001b[49m\n",
      "\u001b[36mFile \u001b[39m\u001b[32m~/Repos/doc-intelligence-app/.venv/lib/python3.12/site-packages/sqlalchemy/engine/base.py:1986\u001b[39m, in \u001b[36mConnection._exec_single_context\u001b[39m\u001b[34m(self, dialect, context, statement, parameters)\u001b[39m\n\u001b[32m   1983\u001b[39m     result = context._setup_result_proxy()\n\u001b[32m   1985\u001b[39m \u001b[38;5;28;01mexcept\u001b[39;00m \u001b[38;5;167;01mBaseException\u001b[39;00m \u001b[38;5;28;01mas\u001b[39;00m e:\n\u001b[32m-> \u001b[39m\u001b[32m1986\u001b[39m     \u001b[38;5;28;43mself\u001b[39;49m\u001b[43m.\u001b[49m\u001b[43m_handle_dbapi_exception\u001b[49m\u001b[43m(\u001b[49m\n\u001b[32m   1987\u001b[39m \u001b[43m        \u001b[49m\u001b[43me\u001b[49m\u001b[43m,\u001b[49m\u001b[43m \u001b[49m\u001b[43mstr_statement\u001b[49m\u001b[43m,\u001b[49m\u001b[43m \u001b[49m\u001b[43meffective_parameters\u001b[49m\u001b[43m,\u001b[49m\u001b[43m \u001b[49m\u001b[43mcursor\u001b[49m\u001b[43m,\u001b[49m\u001b[43m \u001b[49m\u001b[43mcontext\u001b[49m\n\u001b[32m   1988\u001b[39m \u001b[43m    \u001b[49m\u001b[43m)\u001b[49m\n\u001b[32m   1990\u001b[39m \u001b[38;5;28;01mreturn\u001b[39;00m result\n",
      "\u001b[36mFile \u001b[39m\u001b[32m~/Repos/doc-intelligence-app/.venv/lib/python3.12/site-packages/sqlalchemy/engine/base.py:2355\u001b[39m, in \u001b[36mConnection._handle_dbapi_exception\u001b[39m\u001b[34m(self, e, statement, parameters, cursor, context, is_sub_exec)\u001b[39m\n\u001b[32m   2353\u001b[39m \u001b[38;5;28;01melif\u001b[39;00m should_wrap:\n\u001b[32m   2354\u001b[39m     \u001b[38;5;28;01massert\u001b[39;00m sqlalchemy_exception \u001b[38;5;129;01mis\u001b[39;00m \u001b[38;5;129;01mnot\u001b[39;00m \u001b[38;5;28;01mNone\u001b[39;00m\n\u001b[32m-> \u001b[39m\u001b[32m2355\u001b[39m     \u001b[38;5;28;01mraise\u001b[39;00m sqlalchemy_exception.with_traceback(exc_info[\u001b[32m2\u001b[39m]) \u001b[38;5;28;01mfrom\u001b[39;00m\u001b[38;5;250m \u001b[39m\u001b[34;01me\u001b[39;00m\n\u001b[32m   2356\u001b[39m \u001b[38;5;28;01melse\u001b[39;00m:\n\u001b[32m   2357\u001b[39m     \u001b[38;5;28;01massert\u001b[39;00m exc_info[\u001b[32m1\u001b[39m] \u001b[38;5;129;01mis\u001b[39;00m \u001b[38;5;129;01mnot\u001b[39;00m \u001b[38;5;28;01mNone\u001b[39;00m\n",
      "\u001b[36mFile \u001b[39m\u001b[32m~/Repos/doc-intelligence-app/.venv/lib/python3.12/site-packages/sqlalchemy/engine/base.py:1967\u001b[39m, in \u001b[36mConnection._exec_single_context\u001b[39m\u001b[34m(self, dialect, context, statement, parameters)\u001b[39m\n\u001b[32m   1965\u001b[39m                 \u001b[38;5;28;01mbreak\u001b[39;00m\n\u001b[32m   1966\u001b[39m     \u001b[38;5;28;01mif\u001b[39;00m \u001b[38;5;129;01mnot\u001b[39;00m evt_handled:\n\u001b[32m-> \u001b[39m\u001b[32m1967\u001b[39m         \u001b[38;5;28;43mself\u001b[39;49m\u001b[43m.\u001b[49m\u001b[43mdialect\u001b[49m\u001b[43m.\u001b[49m\u001b[43mdo_execute\u001b[49m\u001b[43m(\u001b[49m\n\u001b[32m   1968\u001b[39m \u001b[43m            \u001b[49m\u001b[43mcursor\u001b[49m\u001b[43m,\u001b[49m\u001b[43m \u001b[49m\u001b[43mstr_statement\u001b[49m\u001b[43m,\u001b[49m\u001b[43m \u001b[49m\u001b[43meffective_parameters\u001b[49m\u001b[43m,\u001b[49m\u001b[43m \u001b[49m\u001b[43mcontext\u001b[49m\n\u001b[32m   1969\u001b[39m \u001b[43m        \u001b[49m\u001b[43m)\u001b[49m\n\u001b[32m   1971\u001b[39m \u001b[38;5;28;01mif\u001b[39;00m \u001b[38;5;28mself\u001b[39m._has_events \u001b[38;5;129;01mor\u001b[39;00m \u001b[38;5;28mself\u001b[39m.engine._has_events:\n\u001b[32m   1972\u001b[39m     \u001b[38;5;28mself\u001b[39m.dispatch.after_cursor_execute(\n\u001b[32m   1973\u001b[39m         \u001b[38;5;28mself\u001b[39m,\n\u001b[32m   1974\u001b[39m         cursor,\n\u001b[32m   (...)\u001b[39m\u001b[32m   1978\u001b[39m         context.executemany,\n\u001b[32m   1979\u001b[39m     )\n",
      "\u001b[36mFile \u001b[39m\u001b[32m~/Repos/doc-intelligence-app/.venv/lib/python3.12/site-packages/sqlalchemy/engine/default.py:951\u001b[39m, in \u001b[36mDefaultDialect.do_execute\u001b[39m\u001b[34m(self, cursor, statement, parameters, context)\u001b[39m\n\u001b[32m    950\u001b[39m \u001b[38;5;28;01mdef\u001b[39;00m\u001b[38;5;250m \u001b[39m\u001b[34mdo_execute\u001b[39m(\u001b[38;5;28mself\u001b[39m, cursor, statement, parameters, context=\u001b[38;5;28;01mNone\u001b[39;00m):\n\u001b[32m--> \u001b[39m\u001b[32m951\u001b[39m     \u001b[43mcursor\u001b[49m\u001b[43m.\u001b[49m\u001b[43mexecute\u001b[49m\u001b[43m(\u001b[49m\u001b[43mstatement\u001b[49m\u001b[43m,\u001b[49m\u001b[43m \u001b[49m\u001b[43mparameters\u001b[49m\u001b[43m)\u001b[49m\n",
      "\u001b[31mProgrammingError\u001b[39m: (psycopg2.errors.UndefinedColumn) column langchain_pg_embedding.id does not exist\nLINE 1: SELECT langchain_pg_embedding.id AS langchain_pg_embedding_i...\n               ^\n\n[SQL: SELECT langchain_pg_embedding.id AS langchain_pg_embedding_id, langchain_pg_embedding.collection_id AS langchain_pg_embedding_collection_id, langchain_pg_embedding.embedding AS langchain_pg_embedding_embedding, langchain_pg_embedding.document AS langchain_pg_embedding_document, langchain_pg_embedding.cmetadata AS langchain_pg_embedding_cmetadata, langchain_pg_embedding.embedding <=> %(embedding_1)s AS distance \nFROM langchain_pg_embedding JOIN langchain_pg_collection ON langchain_pg_embedding.collection_id = langchain_pg_collection.uuid \nWHERE langchain_pg_embedding.collection_id = %(collection_id_1)s::UUID ORDER BY distance ASC \n LIMIT %(param_1)s]\n[parameters: {'embedding_1': '[-0.58447265625,-0.39794921875,0.027435302734375,-0.0316162109375,-0.040374755859375,0.1781005859375,-0.324951171875,0.309814453125,-0.473876953125,- ... (14820 characters truncated) ... 375,-1.595703125,-0.2222900390625,-0.59716796875,-0.4765625,1.0,0.939453125,0.736328125,0.2452392578125,0.69873046875,-0.294189453125,-0.62744140625]', 'collection_id_1': UUID('df69593a-050d-48a4-b4e4-9243aaf99b7b'), 'param_1': 4}]\n(Background on this error at: https://sqlalche.me/e/20/f405)"
     ]
    }
   ],
   "source": [
    "app.agent_service.vectorstore.similarity_search(\"Hello, world!\")"
   ]
  },
  {
   "cell_type": "code",
   "execution_count": 13,
   "metadata": {},
   "outputs": [
    {
     "ename": "HTTPError",
     "evalue": "404 Client Error: Failed to find MT LLM Endpoint for requested endpoint: databricks-gte-large for url: https://adb-984752964297111.11.azuredatabricks.net/serving-endpoints/databricks-gte-large/invocations. Response text: {\"error_code\": \"RESOURCE_DOES_NOT_EXIST\", \"message\": \"Failed to find MT LLM Endpoint for requested endpoint: databricks-gte-large\"}",
     "output_type": "error",
     "traceback": [
      "\u001b[31m---------------------------------------------------------------------------\u001b[39m",
      "\u001b[31mHTTPError\u001b[39m                                 Traceback (most recent call last)",
      "\u001b[36mFile \u001b[39m\u001b[32m~/Repos/doc-intelligence-app/.venv/lib/python3.12/site-packages/mlflow/utils/request_utils.py:63\u001b[39m, in \u001b[36maugmented_raise_for_status\u001b[39m\u001b[34m(response)\u001b[39m\n\u001b[32m     62\u001b[39m \u001b[38;5;28;01mtry\u001b[39;00m:\n\u001b[32m---> \u001b[39m\u001b[32m63\u001b[39m     \u001b[43mresponse\u001b[49m\u001b[43m.\u001b[49m\u001b[43mraise_for_status\u001b[49m\u001b[43m(\u001b[49m\u001b[43m)\u001b[49m\n\u001b[32m     64\u001b[39m \u001b[38;5;28;01mexcept\u001b[39;00m HTTPError \u001b[38;5;28;01mas\u001b[39;00m e:\n",
      "\u001b[36mFile \u001b[39m\u001b[32m~/Repos/doc-intelligence-app/.venv/lib/python3.12/site-packages/requests/models.py:1026\u001b[39m, in \u001b[36mResponse.raise_for_status\u001b[39m\u001b[34m(self)\u001b[39m\n\u001b[32m   1025\u001b[39m \u001b[38;5;28;01mif\u001b[39;00m http_error_msg:\n\u001b[32m-> \u001b[39m\u001b[32m1026\u001b[39m     \u001b[38;5;28;01mraise\u001b[39;00m HTTPError(http_error_msg, response=\u001b[38;5;28mself\u001b[39m)\n",
      "\u001b[31mHTTPError\u001b[39m: 404 Client Error: Failed to find MT LLM Endpoint for requested endpoint: databricks-gte-large for url: https://adb-984752964297111.11.azuredatabricks.net/serving-endpoints/databricks-gte-large/invocations",
      "\nDuring handling of the above exception, another exception occurred:\n",
      "\u001b[31mHTTPError\u001b[39m                                 Traceback (most recent call last)",
      "\u001b[36mCell\u001b[39m\u001b[36m \u001b[39m\u001b[32mIn[13]\u001b[39m\u001b[32m, line 1\u001b[39m\n\u001b[32m----> \u001b[39m\u001b[32m1\u001b[39m \u001b[43mapp\u001b[49m\u001b[43m.\u001b[49m\u001b[43magent_service\u001b[49m\u001b[43m.\u001b[49m\u001b[43membeddings\u001b[49m\u001b[43m.\u001b[49m\u001b[43membed_query\u001b[49m\u001b[43m(\u001b[49m\u001b[33;43m\"\u001b[39;49m\u001b[33;43mHello, world!\u001b[39;49m\u001b[33;43m\"\u001b[39;49m\u001b[43m)\u001b[49m\n",
      "\u001b[36mFile \u001b[39m\u001b[32m~/Repos/doc-intelligence-app/.venv/lib/python3.12/site-packages/databricks_langchain/embeddings.py:53\u001b[39m, in \u001b[36mDatabricksEmbeddings.embed_query\u001b[39m\u001b[34m(self, text)\u001b[39m\n\u001b[32m     52\u001b[39m \u001b[38;5;28;01mdef\u001b[39;00m\u001b[38;5;250m \u001b[39m\u001b[34membed_query\u001b[39m(\u001b[38;5;28mself\u001b[39m, text: \u001b[38;5;28mstr\u001b[39m) -> List[\u001b[38;5;28mfloat\u001b[39m]:\n\u001b[32m---> \u001b[39m\u001b[32m53\u001b[39m     \u001b[38;5;28;01mreturn\u001b[39;00m \u001b[38;5;28;43mself\u001b[39;49m\u001b[43m.\u001b[49m\u001b[43m_embed\u001b[49m\u001b[43m(\u001b[49m\u001b[43m[\u001b[49m\u001b[43mtext\u001b[49m\u001b[43m]\u001b[49m\u001b[43m,\u001b[49m\u001b[43m \u001b[49m\u001b[43mparams\u001b[49m\u001b[43m=\u001b[49m\u001b[38;5;28;43mself\u001b[39;49m\u001b[43m.\u001b[49m\u001b[43mquery_params\u001b[49m\u001b[43m)\u001b[49m[\u001b[32m0\u001b[39m]\n",
      "\u001b[36mFile \u001b[39m\u001b[32m~/Repos/doc-intelligence-app/.venv/lib/python3.12/site-packages/databricks_langchain/embeddings.py:58\u001b[39m, in \u001b[36mDatabricksEmbeddings._embed\u001b[39m\u001b[34m(self, texts, params)\u001b[39m\n\u001b[32m     56\u001b[39m embeddings: List[List[\u001b[38;5;28mfloat\u001b[39m]] = []\n\u001b[32m     57\u001b[39m \u001b[38;5;28;01mfor\u001b[39;00m txt \u001b[38;5;129;01min\u001b[39;00m _chunk(texts, \u001b[32m20\u001b[39m):\n\u001b[32m---> \u001b[39m\u001b[32m58\u001b[39m     resp = \u001b[38;5;28;43mself\u001b[39;49m\u001b[43m.\u001b[49m\u001b[43m_client\u001b[49m\u001b[43m.\u001b[49m\u001b[43mpredict\u001b[49m\u001b[43m(\u001b[49m\n\u001b[32m     59\u001b[39m \u001b[43m        \u001b[49m\u001b[43mendpoint\u001b[49m\u001b[43m=\u001b[49m\u001b[38;5;28;43mself\u001b[39;49m\u001b[43m.\u001b[49m\u001b[43mendpoint\u001b[49m\u001b[43m,\u001b[49m\n\u001b[32m     60\u001b[39m \u001b[43m        \u001b[49m\u001b[43minputs\u001b[49m\u001b[43m=\u001b[49m\u001b[43m{\u001b[49m\u001b[33;43m\"\u001b[39;49m\u001b[33;43minput\u001b[39;49m\u001b[33;43m\"\u001b[39;49m\u001b[43m:\u001b[49m\u001b[43m \u001b[49m\u001b[43mtxt\u001b[49m\u001b[43m,\u001b[49m\u001b[43m \u001b[49m\u001b[43m*\u001b[49m\u001b[43m*\u001b[49m\u001b[43mparams\u001b[49m\u001b[43m}\u001b[49m\u001b[43m,\u001b[49m\u001b[43m  \u001b[49m\u001b[38;5;66;43;03m# type: ignore[arg-type]\u001b[39;49;00m\n\u001b[32m     61\u001b[39m \u001b[43m    \u001b[49m\u001b[43m)\u001b[49m\n\u001b[32m     62\u001b[39m     embeddings.extend(r[\u001b[33m\"\u001b[39m\u001b[33membedding\u001b[39m\u001b[33m\"\u001b[39m] \u001b[38;5;28;01mfor\u001b[39;00m r \u001b[38;5;129;01min\u001b[39;00m resp[\u001b[33m\"\u001b[39m\u001b[33mdata\u001b[39m\u001b[33m\"\u001b[39m])\n\u001b[32m     63\u001b[39m \u001b[38;5;28;01mreturn\u001b[39;00m embeddings\n",
      "\u001b[36mFile \u001b[39m\u001b[32m~/Repos/doc-intelligence-app/.venv/lib/python3.12/site-packages/mlflow/deployments/databricks/__init__.py:240\u001b[39m, in \u001b[36mDatabricksDeploymentClient.predict\u001b[39m\u001b[34m(self, deployment_name, inputs, endpoint)\u001b[39m\n\u001b[32m    189\u001b[39m \u001b[38;5;28;01mdef\u001b[39;00m\u001b[38;5;250m \u001b[39m\u001b[34mpredict\u001b[39m(\u001b[38;5;28mself\u001b[39m, deployment_name=\u001b[38;5;28;01mNone\u001b[39;00m, inputs=\u001b[38;5;28;01mNone\u001b[39;00m, endpoint=\u001b[38;5;28;01mNone\u001b[39;00m):\n\u001b[32m    190\u001b[39m \u001b[38;5;250m    \u001b[39m\u001b[33;03m\"\"\"\u001b[39;00m\n\u001b[32m    191\u001b[39m \u001b[33;03m    Query a serving endpoint with the provided model inputs.\u001b[39;00m\n\u001b[32m    192\u001b[39m \u001b[33;03m    See https://docs.databricks.com/api/workspace/servingendpoints/query for request/response\u001b[39;00m\n\u001b[32m   (...)\u001b[39m\u001b[32m    238\u001b[39m \u001b[33;03m        }\u001b[39;00m\n\u001b[32m    239\u001b[39m \u001b[33;03m    \"\"\"\u001b[39;00m\n\u001b[32m--> \u001b[39m\u001b[32m240\u001b[39m     \u001b[38;5;28;01mreturn\u001b[39;00m \u001b[38;5;28;43mself\u001b[39;49m\u001b[43m.\u001b[49m\u001b[43m_call_endpoint\u001b[49m\u001b[43m(\u001b[49m\n\u001b[32m    241\u001b[39m \u001b[43m        \u001b[49m\u001b[43mmethod\u001b[49m\u001b[43m=\u001b[49m\u001b[33;43m\"\u001b[39;49m\u001b[33;43mPOST\u001b[39;49m\u001b[33;43m\"\u001b[39;49m\u001b[43m,\u001b[49m\n\u001b[32m    242\u001b[39m \u001b[43m        \u001b[49m\u001b[43mprefix\u001b[49m\u001b[43m=\u001b[49m\u001b[33;43m\"\u001b[39;49m\u001b[33;43m/\u001b[39;49m\u001b[33;43m\"\u001b[39;49m\u001b[43m,\u001b[49m\n\u001b[32m    243\u001b[39m \u001b[43m        \u001b[49m\u001b[43mroute\u001b[49m\u001b[43m=\u001b[49m\u001b[43mposixpath\u001b[49m\u001b[43m.\u001b[49m\u001b[43mjoin\u001b[49m\u001b[43m(\u001b[49m\u001b[43mendpoint\u001b[49m\u001b[43m,\u001b[49m\u001b[43m \u001b[49m\u001b[33;43m\"\u001b[39;49m\u001b[33;43minvocations\u001b[39;49m\u001b[33;43m\"\u001b[39;49m\u001b[43m)\u001b[49m\u001b[43m,\u001b[49m\n\u001b[32m    244\u001b[39m \u001b[43m        \u001b[49m\u001b[43mjson_body\u001b[49m\u001b[43m=\u001b[49m\u001b[43minputs\u001b[49m\u001b[43m,\u001b[49m\n\u001b[32m    245\u001b[39m \u001b[43m        \u001b[49m\u001b[43mtimeout\u001b[49m\u001b[43m=\u001b[49m\u001b[43mMLFLOW_DEPLOYMENT_PREDICT_TIMEOUT\u001b[49m\u001b[43m.\u001b[49m\u001b[43mget\u001b[49m\u001b[43m(\u001b[49m\u001b[43m)\u001b[49m\u001b[43m,\u001b[49m\n\u001b[32m    246\u001b[39m \u001b[43m    \u001b[49m\u001b[43m)\u001b[49m\n",
      "\u001b[36mFile \u001b[39m\u001b[32m~/Repos/doc-intelligence-app/.venv/lib/python3.12/site-packages/mlflow/deployments/databricks/__init__.py:147\u001b[39m, in \u001b[36mDatabricksDeploymentClient._call_endpoint\u001b[39m\u001b[34m(self, method, prefix, route, json_body, timeout)\u001b[39m\n\u001b[32m    135\u001b[39m     call_kwargs[\u001b[33m\"\u001b[39m\u001b[33mjson\u001b[39m\u001b[33m\"\u001b[39m] = json_body\n\u001b[32m    137\u001b[39m response = http_request(\n\u001b[32m    138\u001b[39m     host_creds=get_databricks_host_creds(\u001b[38;5;28mself\u001b[39m.target_uri),\n\u001b[32m    139\u001b[39m     endpoint=posixpath.join(prefix, \u001b[33m\"\u001b[39m\u001b[33mserving-endpoints\u001b[39m\u001b[33m\"\u001b[39m, route \u001b[38;5;129;01mor\u001b[39;00m \u001b[33m\"\u001b[39m\u001b[33m\"\u001b[39m),\n\u001b[32m   (...)\u001b[39m\u001b[32m    145\u001b[39m     **call_kwargs,\n\u001b[32m    146\u001b[39m )\n\u001b[32m--> \u001b[39m\u001b[32m147\u001b[39m \u001b[43maugmented_raise_for_status\u001b[49m\u001b[43m(\u001b[49m\u001b[43mresponse\u001b[49m\u001b[43m)\u001b[49m\n\u001b[32m    148\u001b[39m \u001b[38;5;28;01mreturn\u001b[39;00m DatabricksEndpoint(response.json())\n",
      "\u001b[36mFile \u001b[39m\u001b[32m~/Repos/doc-intelligence-app/.venv/lib/python3.12/site-packages/mlflow/utils/request_utils.py:66\u001b[39m, in \u001b[36maugmented_raise_for_status\u001b[39m\u001b[34m(response)\u001b[39m\n\u001b[32m     64\u001b[39m \u001b[38;5;28;01mexcept\u001b[39;00m HTTPError \u001b[38;5;28;01mas\u001b[39;00m e:\n\u001b[32m     65\u001b[39m     \u001b[38;5;28;01mif\u001b[39;00m response.text:\n\u001b[32m---> \u001b[39m\u001b[32m66\u001b[39m         \u001b[38;5;28;01mraise\u001b[39;00m HTTPError(\n\u001b[32m     67\u001b[39m             \u001b[33mf\u001b[39m\u001b[33m\"\u001b[39m\u001b[38;5;132;01m{\u001b[39;00me\u001b[38;5;132;01m}\u001b[39;00m\u001b[33m. Response text: \u001b[39m\u001b[38;5;132;01m{\u001b[39;00mresponse.text\u001b[38;5;132;01m}\u001b[39;00m\u001b[33m\"\u001b[39m, request=e.request, response=e.response\n\u001b[32m     68\u001b[39m         )\n\u001b[32m     69\u001b[39m     \u001b[38;5;28;01melse\u001b[39;00m:\n\u001b[32m     70\u001b[39m         \u001b[38;5;28;01mraise\u001b[39;00m e\n",
      "\u001b[31mHTTPError\u001b[39m: 404 Client Error: Failed to find MT LLM Endpoint for requested endpoint: databricks-gte-large for url: https://adb-984752964297111.11.azuredatabricks.net/serving-endpoints/databricks-gte-large/invocations. Response text: {\"error_code\": \"RESOURCE_DOES_NOT_EXIST\", \"message\": \"Failed to find MT LLM Endpoint for requested endpoint: databricks-gte-large\"}"
     ]
    }
   ],
   "source": [
    "app.agent_service.embeddings.embed_query(\"Hello, world!\")"
   ]
  },
  {
   "cell_type": "code",
   "execution_count": 7,
   "metadata": {},
   "outputs": [
    {
     "name": "stdout",
     "output_type": "stream",
     "text": [
      "🧪 Testing Agent Service - General Conversations\n",
      "============================================================\n",
      "Agent Service Available: True\n",
      "RAG Capabilities Available: True\n",
      "\n",
      "💬 Testing general conversation...\n",
      "✅ Response: Hello! I'm a document intelligence assistant designed to help you work with and understand documents. Here's what I can do for you:\n",
      "\n",
      "**Document Analysis:**\n",
      "- Read and analyze uploaded documents (PDFs, text files, images with text, etc.)\n",
      "- Extract key information and summarize content\n",
      "- Answer specific questions about document contents\n",
      "- Help identify important sections, data, or themes\n",
      "\n",
      "**General Assistance:**\n",
      "- Provide explanations and clarifications about document content\n",
      "- Help organize and structure information from documents\n",
      "- Assist with document-related tasks like formatting guidance\n",
      "- Offer insights and analysis based on the materials you share\n",
      "\n",
      "**How to work with me:**\n",
      "- Upload any documents you'd like me to analyze\n",
      "- Ask specific questions about the content\n",
      "- Request summaries or explanations of complex material\n",
      "- Get help understanding technical or specialized documents\n",
      "\n",
      "I'm here to make working with documents easier and more efficient for you. Feel free to upload a document or ask me any questions about how I can help with your specific needs!\n",
      "\n",
      "What would you like to work on today?\n",
      "📊 Metadata: {'model_used': 'databricks_llm_direct', 'context_docs_count': 0, 'prompt_length': 204}\n",
      "\n",
      "🔄 Testing conversation state management...\n",
      "✅ Conversation state management available\n"
     ]
    }
   ],
   "source": [
    "print(\"🧪 Testing Agent Service - General Conversations\")\n",
    "print(\"=\" * 60)\n",
    "\n",
    "# Test basic agent availability\n",
    "print(f\"Agent Service Available: {app.agent_service.is_available}\")\n",
    "print(f\"RAG Capabilities Available: {app.agent_service.rag_available}\")\n",
    "\n",
    "if app.agent_service.is_available:\n",
    "    # Test general conversation without documents\n",
    "    general_messages = [\n",
    "        {\"role\": \"user\", \"content\": \"Hello! Can you tell me about yourself?\"}\n",
    "    ]\n",
    "    \n",
    "    print(\"\\n💬 Testing general conversation...\")\n",
    "    success, response, metadata = app.agent_service.generate_response(\n",
    "        messages=general_messages,\n",
    "        context_documents=None\n",
    "    )\n",
    "    \n",
    "    if success:\n",
    "        print(f\"✅ Response: {response}\")\n",
    "        print(f\"📊 Metadata: {metadata}\")\n",
    "    else:\n",
    "        print(f\"❌ Failed: {response}\")\n",
    "        \n",
    "    # Test conversation state management\n",
    "    print(\"\\n🔄 Testing conversation state management...\")\n",
    "    if app.agent_service.conversation_state_available:\n",
    "        print(\"✅ Conversation state management available\")\n",
    "    else:\n",
    "        print(\"⚠️ Conversation state management not available\")\n",
    "else:\n",
    "    print(\"❌ Agent service not available\")"
   ]
  },
  {
   "cell_type": "markdown",
   "metadata": {},
   "source": [
    "## Test 2: Storage Service - Document Upload\n",
    "\n",
    "Now let's test the storage service's ability to handle document uploads."
   ]
  },
  {
   "cell_type": "code",
   "execution_count": null,
   "metadata": {},
   "outputs": [],
   "source": [
    "print(\"🧪 Testing Storage Service - Document Upload\")\n",
    "print(\"=\" * 60)\n",
    "\n",
    "# Create a sample document for testing\n",
    "sample_content = \"\"\"\n",
    "This is a sample document for testing the storage service.\n",
    "It contains multiple paragraphs to test document processing.\n",
    "The document will be used to test the complete flow.\n",
    "\n",
    "Key points:\n",
    "- Document storage and retrieval\n",
    "- Document processing pipeline\n",
    "- Vector search capabilities\n",
    "- RAG integration\n",
    "\"\"\".encode('utf-8')\n",
    "\n",
    "filename = \"test_document.txt\"\n",
    "test_user = \"test_user@example.com\"\n",
    "\n",
    "print(f\"📄 Testing upload of: {filename}\")\n",
    "print(f\"👤 Test user: {test_user}\")\n",
    "print(f\"📏 Content length: {len(sample_content)} bytes\")\n",
    "\n",
    "# Test storage service upload\n",
    "success, doc_hash, upload_path, message = app.storage_service.upload_document(\n",
    "    file_content=sample_content,\n",
    "    filename=filename,\n",
    "    username=test_user\n",
    ")\n",
    "\n",
    "if success:\n",
    "    print(f\"✅ Upload successful!\")\n",
    "    print(f\"🔑 Document hash: {doc_hash}\")\n",
    "    print(f\"📁 Upload path: {upload_path}\")\n",
    "    print(f\"💬 Message: {message}\")\n",
    "    \n",
    "    # Store the doc_hash for later tests\n",
    "    test_doc_hash = doc_hash\n",
    "else:\n",
    "    print(f\"❌ Upload failed: {message}\")\n",
    "    test_doc_hash = None"
   ]
  },
  {
   "cell_type": "markdown",
   "metadata": {},
   "source": [
    "## Test 3: Document Service - Document Processing\n",
    "\n",
    "Now let's test the document service's ability to process uploaded documents."
   ]
  },
  {
   "cell_type": "code",
   "execution_count": null,
   "metadata": {},
   "outputs": [],
   "source": [
    "print(\"🧪 Testing Document Service - Document Processing\")\n",
    "print(\"=\" * 60)\n",
    "\n",
    "if test_doc_hash:\n",
    "    print(f\"📄 Processing document: {test_doc_hash}\")\n",
    "    \n",
    "    # Test document processing\n",
    "    result = app.document_service.process_document(\n",
    "        file_content=sample_content,\n",
    "        filename=filename,\n",
    "        username=test_user\n",
    "    )\n",
    "    \n",
    "    if result[\"success\"]:\n",
    "        print(f\"✅ Document processing successful!\")\n",
    "        print(f\"📊 Result: {result}\")\n",
    "        \n",
    "        # Check if document was stored in database\n",
    "        doc_info = app.get_document_info(test_doc_hash)\n",
    "        if doc_info:\n",
    "            print(f\"📋 Document info: {doc_info}\")\n",
    "        else:\n",
    "            print(\"⚠️ Document not found in database\")\n",
    "    else:\n",
    "        print(f\"❌ Document processing failed: {result.get('error', 'Unknown error')}\")\n",
    "else:\n",
    "    print(\"⚠️ Skipping document processing test - no document hash available\")"
   ]
  },
  {
   "cell_type": "markdown",
   "metadata": {},
   "source": [
    "## Test 4: Agent Service with RAG - Document Conversations\n",
    "\n",
    "Now let's test the agent service's RAG capabilities with the uploaded document."
   ]
  },
  {
   "cell_type": "code",
   "execution_count": null,
   "metadata": {},
   "outputs": [],
   "source": [
    "print(\"🧪 Testing Agent Service with RAG - Document Conversations\")\n",
    "print(\"=\" * 60)\n",
    "\n",
    "if test_doc_hash and app.agent_service.rag_available:\n",
    "    print(f\"🔍 Testing RAG with document: {test_doc_hash}\")\n",
    "    \n",
    "    # Test document search\n",
    "    search_query = \"What are the key points mentioned in the document?\"\n",
    "    print(f\"\\n🔍 Search query: {search_query}\")\n",
    "    \n",
    "    search_success, results, metadata = app.agent_service.search_documents(\n",
    "        query=search_query,\n",
    "        limit=3,\n",
    "        document_ids=[test_doc_hash]\n",
    "    )\n",
    "    \n",
    "    if search_success:\n",
    "        print(f\"✅ Search successful! Found {len(results)} results\")\n",
    "        for i, result in enumerate(results):\n",
    "            print(f\"\\n📄 Result {i+1}:\")\n",
    "            print(f\"   Content: {result['content'][:100]}...\")\n",
    "            print(f\"   Document ID: {result['document_id']}\")\n",
    "            print(f\"   Chunk Index: {result['chunk_index']}\")\n",
    "        \n",
    "        # Test conversation with document context\n",
    "        print(f\"\\n💬 Testing conversation with document context...\")\n",
    "        \n",
    "        # Create a conversation about the document\n",
    "        doc_messages = [\n",
    "            {\"role\": \"user\", \"content\": \"What is this document about?\"}\n",
    "        ]\n",
    "        \n",
    "        success, response, metadata = app.agent_service.generate_response(\n",
    "            messages=doc_messages,\n",
    "            context_documents=results\n",
    "        )\n",
    "        \n",
    "        if success:\n",
    "            print(f\"✅ Response: {response}\")\n",
    "            print(f\"📊 Metadata: {metadata}\")\n",
    "        else:\n",
    "            print(f\"❌ Failed: {response}\")\n",
    "    else:\n",
    "        print(f\"❌ Search failed: {metadata.get('error', 'Unknown error')}\")\n",
    "        \n",
    "else:\n",
    "    print(\"⚠️ Skipping RAG test - document hash or RAG capabilities not available\")"
   ]
  },
  {
   "cell_type": "markdown",
   "metadata": {},
   "source": [
    "## Test 5: Complete Flow Integration\n",
    "\n",
    "Let's test the complete flow using the main application methods."
   ]
  },
  {
   "cell_type": "code",
   "execution_count": null,
   "metadata": {},
   "outputs": [],
   "source": [
    "print(\"🧪 Testing Complete Flow Integration\")\n",
    "print(\"=\" * 60)\n",
    "\n",
    "# Test 1: Start a new conversation\n",
    "print(\"1️⃣ Starting new conversation...\")\n",
    "conv_result = app.start_new_conversation(\n",
    "    username=test_user,\n",
    "    title=\"Test conversation with document\"\n",
    ")\n",
    "\n",
    "if conv_result[\"success\"]:\n",
    "    conversation_id = conv_result[\"conversation_id\"]\n",
    "    print(f\"✅ Conversation started: {conversation_id}\")\n",
    "    \n",
    "    # Test 2: Upload and process document\n",
    "    print(\"\\n2️⃣ Uploading and processing document...\")\n",
    "    upload_result = app.upload_and_process_document(\n",
    "        file_content=sample_content,\n",
    "        filename=filename,\n",
    "        username=test_user\n",
    "    )\n",
    "    \n",
    "    if upload_result[\"success\"]:\n",
    "        doc_hash = upload_result[\"doc_hash\"]\n",
    "        print(f\"✅ Document processed: {doc_hash}\")\n",
    "        \n",
    "        # Test 3: Add document to conversation\n",
    "        print(\"\\n3️⃣ Adding document to conversation...\")\n",
    "        if app.add_documents_to_conversation(conversation_id, [doc_hash]):\n",
    "            print(f\"✅ Document added to conversation\")\n",
    "            \n",
    "            # Test 4: Send message about the document\n",
    "            print(\"\\n4️⃣ Sending message about document...\")\n",
    "            message_result = app.send_chat_message(\n",
    "                conversation_id=conversation_id,\n",
    "                user_message=\"What are the main topics covered in this document?\"\n",
    "            )\n",
    "            \n",
    "            if message_result[\"success\"]:\n",
    "                print(f\"✅ Response received: {message_result['response']}\")\n",
    "            else:\n",
    "                print(f\"❌ Message failed: {message_result.get('error', 'Unknown error')}\")\n",
    "        else:\n",
    "            print(f\"❌ Failed to add document to conversation\")\n",
    "    else:\n",
    "        print(f\"❌ Document processing failed: {upload_result.get('error', 'Unknown error')}\")\n",
    "else:\n",
    "    print(f\"❌ Failed to start conversation: {conv_result.get('error', 'Unknown error')}\")"
   ]
  },
  {
   "cell_type": "markdown",
   "metadata": {},
   "source": [
    "## Test 6: Service Health and Status\n",
    "\n",
    "Let's check the final status of all services and verify everything is working."
   ]
  },
  {
   "cell_type": "code",
   "execution_count": null,
   "metadata": {},
   "outputs": [],
   "source": [
    "print(\"🧪 Final Service Health Check\")\n",
    "print(\"=\" * 60)\n",
    "\n",
    "# Check final system status\n",
    "final_status = app.get_system_status()\n",
    "print(\"📊 Final System Status:\")\n",
    "for service_name, service_status in final_status[\"services\"].items():\n",
    "    status_icon = \"✅\" if service_status[\"available\"] else \"❌\"\n",
    "    print(f\"{status_icon} {service_name.title()}: {service_status['message']}\")\n",
    "\n",
    "print(f\"\\n🏥 Overall Health: {'✅ Healthy' if final_status['overall_health'] else '❌ Unhealthy'}\")\n",
    "\n",
    "# Check conversation history\n",
    "print(f\"\\n💬 Conversation History:\")\n",
    "conversations = app.get_user_conversations(test_user)\n",
    "if conversations:\n",
    "    for conv in conversations:\n",
    "        print(f\"   📝 {conv['title']} (ID: {conv['conversation_id']})\")\n",
    "else:\n",
    "    print(\"   No conversations found\")\n",
    "\n",
    "# Check user documents\n",
    "print(f\"\\n📄 User Documents:\")\n",
    "documents = app.get_user_documents(test_user)\n",
    "if documents:\n",
    "    for doc in documents:\n",
    "        print(f\"   📄 {doc['filename']} (Status: {doc['status']})\")\n",
    "else:\n",
    "    print(\"   No documents found\")\n",
    "\n",
    "print(\"\\n🎉 Testing complete!\")\n",
    "print(\"\\n📋 Summary:\")\n",
    "print(\"✅ Agent Service: General conversations and RAG capabilities\")\n",
    "print(\"✅ Storage Service: Document upload and management\")\n",
    "print(\"✅ Document Service: Document processing pipeline\")\n",
    "print(\"✅ Integration: Complete flow from upload to conversation\")\n",
    "print(\"✅ Database: Conversation and document persistence\")"
   ]
  }
 ],
 "metadata": {
  "kernelspec": {
   "display_name": ".venv",
   "language": "python",
   "name": "python3"
  },
  "language_info": {
   "codemirror_mode": {
    "name": "ipython",
    "version": 3
   },
   "file_extension": ".py",
   "mimetype": "text/x-python",
   "name": "python",
   "nbconvert_exporter": "python",
   "pygments_lexer": "ipython3",
   "version": "3.12.3"
  }
 },
 "nbformat": 4,
 "nbformat_minor": 4
}
